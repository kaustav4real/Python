{
 "cells": [
  {
   "cell_type": "markdown",
   "id": "117a81a7",
   "metadata": {},
   "source": [
    "# MADE BY KAUSTAV KAKOTY<br> <br>\n",
    "# Lists<br>\n",
    "Unlike other programming languages, arrays aren't a built-in data structure in Python. Instead of traditional arrays, Python uses lists.\n",
    "\n",
    "Lists are essentially dynamic arrays and are one of the most common and powerful data structures in Python. <br>\n",
    "\n",
    "You can think of them as ordered containers. They store and organize similar kind of related data together.\n",
    "Lists are used to store multiple items in a single variable. <br>\n",
    "\n",
    "Lists are one of 4 built-in data types in Python used to store collections of data, the other 3 are Tuple, Set, and Dictionary, all with different qualities and usage.<br>\n",
    "\n",
    "Lists are created using square brackets and the items are seperated using commas.List items are ordered, changeable, and allow duplicate values.\n",
    "\n",
    "List items are indexed, the first item has index [0], the second item has index [1] etc."
   ]
  },
  {
   "cell_type": "code",
   "execution_count": 1,
   "id": "6bb40fad",
   "metadata": {},
   "outputs": [],
   "source": [
    "first_list=[1,2,3]"
   ]
  },
  {
   "cell_type": "code",
   "execution_count": 3,
   "id": "4bda2f53",
   "metadata": {},
   "outputs": [],
   "source": [
    "second_list=['Lists can have more than one data type', 20, 89.78]"
   ]
  },
  {
   "cell_type": "code",
   "execution_count": 4,
   "id": "caff6872",
   "metadata": {},
   "outputs": [
    {
     "data": {
      "text/plain": [
       "['Lists can have more than one data type', 20, 89.78]"
      ]
     },
     "execution_count": 4,
     "metadata": {},
     "output_type": "execute_result"
    }
   ],
   "source": [
    "second_list"
   ]
  },
  {
   "cell_type": "markdown",
   "id": "8e45d9da",
   "metadata": {},
   "source": [
    "We can also concatenate lists"
   ]
  },
  {
   "cell_type": "code",
   "execution_count": 7,
   "id": "ac002af3",
   "metadata": {},
   "outputs": [
    {
     "name": "stdout",
     "output_type": "stream",
     "text": [
      "[1, 2, 3, 4, 5, 6]\n"
     ]
    }
   ],
   "source": [
    "list1=[1,2,3]\n",
    "list2=[4,5,6]\n",
    "final_list=list1+list2\n",
    "print(final_list)"
   ]
  },
  {
   "cell_type": "markdown",
   "id": "1689f4ba",
   "metadata": {},
   "source": [
    "We can also use indexing,slicing in lists just like a string.<br>\n",
    "Nb: Lists are mutable. "
   ]
  },
  {
   "cell_type": "code",
   "execution_count": 8,
   "id": "5c084ce1",
   "metadata": {},
   "outputs": [],
   "source": [
    "final_list[0]=0"
   ]
  },
  {
   "cell_type": "code",
   "execution_count": 9,
   "id": "9f360df7",
   "metadata": {},
   "outputs": [
    {
     "data": {
      "text/plain": [
       "[0, 2, 3, 4, 5, 6]"
      ]
     },
     "execution_count": 9,
     "metadata": {},
     "output_type": "execute_result"
    }
   ],
   "source": [
    "final_list"
   ]
  },
  {
   "cell_type": "markdown",
   "id": "12203fb9",
   "metadata": {},
   "source": [
    "The .append() method adds an additional element to the end of an already existing list.\n",
    "\n",
    "The general syntax looks something like this:\n",
    "\n",
    "list_name.append(item)"
   ]
  },
  {
   "cell_type": "code",
   "execution_count": 10,
   "id": "fae1e5b3",
   "metadata": {},
   "outputs": [],
   "source": [
    "final_list.append(7)"
   ]
  },
  {
   "cell_type": "code",
   "execution_count": 11,
   "id": "5e4078f2",
   "metadata": {},
   "outputs": [
    {
     "data": {
      "text/plain": [
       "[0, 2, 3, 4, 5, 6, 7]"
      ]
     },
     "execution_count": 11,
     "metadata": {},
     "output_type": "execute_result"
    }
   ],
   "source": [
    "final_list"
   ]
  },
  {
   "cell_type": "markdown",
   "id": "3cc0ff4b",
   "metadata": {},
   "source": [
    "The pop() method removes the element at the specified position.\n",
    "\n"
   ]
  },
  {
   "cell_type": "code",
   "execution_count": 14,
   "id": "66dbd778",
   "metadata": {},
   "outputs": [],
   "source": [
    "popped_item=final_list.pop()"
   ]
  },
  {
   "cell_type": "code",
   "execution_count": 13,
   "id": "468428c4",
   "metadata": {},
   "outputs": [
    {
     "data": {
      "text/plain": [
       "[0, 2, 3, 4, 5, 6]"
      ]
     },
     "execution_count": 13,
     "metadata": {},
     "output_type": "execute_result"
    }
   ],
   "source": [
    "final_list"
   ]
  },
  {
   "cell_type": "code",
   "execution_count": 15,
   "id": "0ff32c57",
   "metadata": {},
   "outputs": [],
   "source": [
    "#To remove an element from a specific position of a list\n",
    "lists=['tiger','lion','monkey']\n",
    "popped_item=lists.pop(1)"
   ]
  },
  {
   "cell_type": "code",
   "execution_count": 16,
   "id": "df366e28",
   "metadata": {},
   "outputs": [
    {
     "data": {
      "text/plain": [
       "'lion'"
      ]
     },
     "execution_count": 16,
     "metadata": {},
     "output_type": "execute_result"
    }
   ],
   "source": [
    "popped_item"
   ]
  },
  {
   "cell_type": "code",
   "execution_count": 17,
   "id": "00701245",
   "metadata": {},
   "outputs": [
    {
     "data": {
      "text/plain": [
       "['tiger', 'monkey']"
      ]
     },
     "execution_count": 17,
     "metadata": {},
     "output_type": "execute_result"
    }
   ],
   "source": [
    "lists"
   ]
  },
  {
   "cell_type": "code",
   "execution_count": 18,
   "id": "ae0dc9a4",
   "metadata": {},
   "outputs": [],
   "source": [
    "lists=['tiger','lion','monkey','zebra']\n",
    "#we can also use reverse indexing here to pop elements from the end\n",
    "popped_item=lists.pop(-1)"
   ]
  },
  {
   "cell_type": "code",
   "execution_count": 19,
   "id": "49a53f6c",
   "metadata": {},
   "outputs": [
    {
     "data": {
      "text/plain": [
       "'zebra'"
      ]
     },
     "execution_count": 19,
     "metadata": {},
     "output_type": "execute_result"
    }
   ],
   "source": [
    "popped_item"
   ]
  },
  {
   "cell_type": "markdown",
   "id": "4589a8f5",
   "metadata": {},
   "source": [
    "The sort() method sorts the list ascending by default."
   ]
  },
  {
   "cell_type": "code",
   "execution_count": 21,
   "id": "98ed7e2e",
   "metadata": {},
   "outputs": [],
   "source": [
    "this_list=[9,10,7,12,5,18]\n",
    "this_list.sort()"
   ]
  },
  {
   "cell_type": "code",
   "execution_count": 23,
   "id": "1eda6a79",
   "metadata": {},
   "outputs": [
    {
     "data": {
      "text/plain": [
       "[5, 7, 9, 10, 12, 18]"
      ]
     },
     "execution_count": 23,
     "metadata": {},
     "output_type": "execute_result"
    }
   ],
   "source": [
    "this_list"
   ]
  },
  {
   "cell_type": "code",
   "execution_count": 24,
   "id": "5b53c3a3",
   "metadata": {},
   "outputs": [],
   "source": [
    "#Again\n",
    "this_list=['b','a','p','h']\n",
    "this_list.sort()"
   ]
  },
  {
   "cell_type": "code",
   "execution_count": 25,
   "id": "94a6e485",
   "metadata": {},
   "outputs": [
    {
     "data": {
      "text/plain": [
       "['a', 'b', 'h', 'p']"
      ]
     },
     "execution_count": 25,
     "metadata": {},
     "output_type": "execute_result"
    }
   ],
   "source": [
    "this_list"
   ]
  },
  {
   "cell_type": "markdown",
   "id": "9d12767f",
   "metadata": {},
   "source": [
    "The reverse() method reverses the sorting order of the elements."
   ]
  },
  {
   "cell_type": "code",
   "execution_count": 26,
   "id": "93969d58",
   "metadata": {},
   "outputs": [],
   "source": [
    "this_list.reverse()"
   ]
  },
  {
   "cell_type": "code",
   "execution_count": 27,
   "id": "cd958c60",
   "metadata": {},
   "outputs": [
    {
     "data": {
      "text/plain": [
       "['p', 'h', 'b', 'a']"
      ]
     },
     "execution_count": 27,
     "metadata": {},
     "output_type": "execute_result"
    }
   ],
   "source": [
    "this_list"
   ]
  },
  {
   "cell_type": "markdown",
   "id": "46582ead",
   "metadata": {},
   "source": [
    "# Dictionaries in Python"
   ]
  },
  {
   "cell_type": "markdown",
   "id": "6403f44d",
   "metadata": {},
   "source": [
    "Dictionaries are used to store data values in key:value pairs.<br>\n",
    "\n",
    "A dictionary is a collection which is ordered*, changeable and do not allow duplicates."
   ]
  },
  {
   "cell_type": "code",
   "execution_count": 28,
   "id": "8460d695",
   "metadata": {},
   "outputs": [
    {
     "name": "stdout",
     "output_type": "stream",
     "text": [
      "{'brand': 'Ford', 'model': 'Mustang', 'year': 1964}\n"
     ]
    }
   ],
   "source": [
    "thisdict = {\n",
    "  \"brand\": \"Ford\",\n",
    "  \"model\": \"Mustang\",\n",
    "  \"year\": 1964\n",
    "}\n",
    "print(thisdict)"
   ]
  },
  {
   "cell_type": "code",
   "execution_count": 29,
   "id": "a8f8979d",
   "metadata": {},
   "outputs": [
    {
     "data": {
      "text/plain": [
       "'Ford'"
      ]
     },
     "execution_count": 29,
     "metadata": {},
     "output_type": "execute_result"
    }
   ],
   "source": [
    "thisdict['brand']"
   ]
  },
  {
   "cell_type": "markdown",
   "id": "25f5c500",
   "metadata": {},
   "source": [
    "We can also have nested lists"
   ]
  },
  {
   "cell_type": "code",
   "execution_count": 30,
   "id": "e4678bf3",
   "metadata": {},
   "outputs": [],
   "source": [
    "this_dict={\n",
    "    'fname':'Kaustav',\n",
    "    'lname':'Kakoty',\n",
    "    'hobbies':{\n",
    "        'games':'Cricket',\n",
    "        'books':'LOTR'\n",
    "    }\n",
    "}"
   ]
  },
  {
   "cell_type": "code",
   "execution_count": 32,
   "id": "3ffe2b0f",
   "metadata": {},
   "outputs": [
    {
     "data": {
      "text/plain": [
       "'LOTR'"
      ]
     },
     "execution_count": 32,
     "metadata": {},
     "output_type": "execute_result"
    }
   ],
   "source": [
    "#The goal is to get hold of 'books'\n",
    "this_dict['hobbies']['books']"
   ]
  },
  {
   "cell_type": "code",
   "execution_count": 34,
   "id": "1fe39476",
   "metadata": {},
   "outputs": [
    {
     "data": {
      "text/plain": [
       "3"
      ]
     },
     "execution_count": 34,
     "metadata": {},
     "output_type": "execute_result"
    }
   ],
   "source": [
    "#  Another example\n",
    "#  Here we shall try to get hold of the number '3' inside the array corrseponding to the key 'arrays' \n",
    "this_dict={\n",
    "    'arrays':[1,2,3],\n",
    "    'name':'Kaustav Kakoty'\n",
    "}\n",
    "this_dict['arrays'][2]"
   ]
  },
  {
   "cell_type": "markdown",
   "id": "226bc2cc",
   "metadata": {},
   "source": [
    "We have three methods to discuss here <br>\n",
    ".keys() <br>\n",
    ".values() <br>\n",
    ".items()"
   ]
  },
  {
   "cell_type": "code",
   "execution_count": 35,
   "id": "3dc31931",
   "metadata": {},
   "outputs": [],
   "source": [
    "new_dictionary={\n",
    "    'One':1,\n",
    "    'Two':2,\n",
    "    'Three':3\n",
    "}"
   ]
  },
  {
   "cell_type": "code",
   "execution_count": 40,
   "id": "b7c5b2e5",
   "metadata": {},
   "outputs": [
    {
     "data": {
      "text/plain": [
       "dict_keys(['One', 'Two', 'Three'])"
      ]
     },
     "execution_count": 40,
     "metadata": {},
     "output_type": "execute_result"
    }
   ],
   "source": [
    "new_dictionary.keys()  # returns all the actual keys"
   ]
  },
  {
   "cell_type": "code",
   "execution_count": 39,
   "id": "e82d4fe3",
   "metadata": {},
   "outputs": [
    {
     "data": {
      "text/plain": [
       "dict_values([1, 2, 3])"
      ]
     },
     "execution_count": 39,
     "metadata": {},
     "output_type": "execute_result"
    }
   ],
   "source": [
    "new_dictionary.values()  # returns all the values"
   ]
  },
  {
   "cell_type": "code",
   "execution_count": 38,
   "id": "54973e9d",
   "metadata": {},
   "outputs": [
    {
     "data": {
      "text/plain": [
       "dict_items([('One', 1), ('Two', 2), ('Three', 3)])"
      ]
     },
     "execution_count": 38,
     "metadata": {},
     "output_type": "execute_result"
    }
   ],
   "source": [
    "new_dictionary.items() # returns all the key value pairs"
   ]
  },
  {
   "cell_type": "markdown",
   "id": "6e98f335",
   "metadata": {},
   "source": [
    "We can also add new keys to the dictionary and override existing values"
   ]
  },
  {
   "cell_type": "code",
   "execution_count": 41,
   "id": "eda8dfc6",
   "metadata": {},
   "outputs": [
    {
     "data": {
      "text/plain": [
       "{'One': 1, 'Two': 2, 'Three': 3}"
      ]
     },
     "execution_count": 41,
     "metadata": {},
     "output_type": "execute_result"
    }
   ],
   "source": [
    "#Here we are adding a new key value pair \n",
    "new_dict={\n",
    "    'One':1,\n",
    "    'Two':2\n",
    "}\n",
    "new_dict['Three']=3\n",
    "new_dict"
   ]
  },
  {
   "cell_type": "code",
   "execution_count": 42,
   "id": "70977d8c",
   "metadata": {},
   "outputs": [],
   "source": [
    "#Here we shall override the first key value pair\n",
    "new_dict['One']='Successfully Overrided'"
   ]
  },
  {
   "cell_type": "code",
   "execution_count": 43,
   "id": "2bc6715b",
   "metadata": {},
   "outputs": [
    {
     "data": {
      "text/plain": [
       "{'One': 'Successfully Overrided', 'Two': 2, 'Three': 3}"
      ]
     },
     "execution_count": 43,
     "metadata": {},
     "output_type": "execute_result"
    }
   ],
   "source": [
    "new_dict"
   ]
  },
  {
   "cell_type": "markdown",
   "id": "fc21236d",
   "metadata": {},
   "source": [
    "## Dictionaries FAQ\n",
    "\n",
    "**1. Do dictionaries keep an order? How do I print the values of the dictionary in order?**\n",
    "\n",
    "Dictionaries are mappings and do not retain order! If you do want the capabilities of a dictionary but you would like ordering as well, check out the ordereddict object lecture later on in the course!"
   ]
  },
  {
   "cell_type": "markdown",
   "id": "838fc55a",
   "metadata": {},
   "source": [
    "# Tuples in Python\n",
    "**Tuples** are very similar to lists. However they have one key difference- immutability. Once an element is inside a tuple, it cannot be reassigned.<br>\n",
    "Tuples use parenthesis"
   ]
  },
  {
   "cell_type": "code",
   "execution_count": 44,
   "id": "a9621aed",
   "metadata": {},
   "outputs": [],
   "source": [
    "my_tuple=(1,2,3)"
   ]
  },
  {
   "cell_type": "code",
   "execution_count": 45,
   "id": "b0470d0e",
   "metadata": {},
   "outputs": [],
   "source": [
    "my_list=[1,2,3]"
   ]
  },
  {
   "cell_type": "code",
   "execution_count": 46,
   "id": "b23a5a3f",
   "metadata": {},
   "outputs": [
    {
     "data": {
      "text/plain": [
       "tuple"
      ]
     },
     "execution_count": 46,
     "metadata": {},
     "output_type": "execute_result"
    }
   ],
   "source": [
    "type(my_tuple)"
   ]
  },
  {
   "cell_type": "code",
   "execution_count": 47,
   "id": "265cd1d7",
   "metadata": {},
   "outputs": [
    {
     "data": {
      "text/plain": [
       "list"
      ]
     },
     "execution_count": 47,
     "metadata": {},
     "output_type": "execute_result"
    }
   ],
   "source": [
    "type(my_list)"
   ]
  },
  {
   "cell_type": "code",
   "execution_count": 48,
   "id": "f61f0361",
   "metadata": {},
   "outputs": [
    {
     "data": {
      "text/plain": [
       "3"
      ]
     },
     "execution_count": 48,
     "metadata": {},
     "output_type": "execute_result"
    }
   ],
   "source": [
    "len(my_tuple)"
   ]
  },
  {
   "cell_type": "code",
   "execution_count": 50,
   "id": "ed435422",
   "metadata": {},
   "outputs": [
    {
     "name": "stdout",
     "output_type": "stream",
     "text": [
      "('One', 2, 9.6)\n"
     ]
    }
   ],
   "source": [
    "my_tuple=('One',2,9.6)\n",
    "print(my_tuple)"
   ]
  },
  {
   "cell_type": "code",
   "execution_count": 51,
   "id": "82ff05ae",
   "metadata": {},
   "outputs": [
    {
     "data": {
      "text/plain": [
       "'One'"
      ]
     },
     "execution_count": 51,
     "metadata": {},
     "output_type": "execute_result"
    }
   ],
   "source": [
    "my_tuple[0]"
   ]
  },
  {
   "cell_type": "code",
   "execution_count": 52,
   "id": "45ba67c4",
   "metadata": {},
   "outputs": [
    {
     "data": {
      "text/plain": [
       "9.6"
      ]
     },
     "execution_count": 52,
     "metadata": {},
     "output_type": "execute_result"
    }
   ],
   "source": [
    "my_tuple[-1]"
   ]
  },
  {
   "cell_type": "markdown",
   "id": "6f331467",
   "metadata": {},
   "source": [
    "From all the above operations, we can see that tuples are very similar to lists. <br>\n",
    "Two important methods in tuples. <br>\n",
    "1. count() <br>\n",
    "2. index()"
   ]
  },
  {
   "cell_type": "code",
   "execution_count": 53,
   "id": "7af14036",
   "metadata": {},
   "outputs": [
    {
     "data": {
      "text/plain": [
       "3"
      ]
     },
     "execution_count": 53,
     "metadata": {},
     "output_type": "execute_result"
    }
   ],
   "source": [
    "# The count function guves us the number of elements that occur repeatedly.\n",
    "# example\n",
    "my_tuple=('a','a','a','b','c')\n",
    "my_tuple.count('a')"
   ]
  },
  {
   "cell_type": "code",
   "execution_count": 56,
   "id": "65b6ea0b",
   "metadata": {},
   "outputs": [
    {
     "data": {
      "text/plain": [
       "0"
      ]
     },
     "execution_count": 56,
     "metadata": {},
     "output_type": "execute_result"
    }
   ],
   "source": [
    "#The index function returns the index of the first matching element\n",
    "my_tuple.index('a')"
   ]
  },
  {
   "cell_type": "markdown",
   "id": "f9552920",
   "metadata": {},
   "source": [
    "# Sets\n",
    "<br />\n",
    "**Sets** are unordered collections of unique elements. Meaning there can be only one representative of the same object."
   ]
  },
  {
   "cell_type": "code",
   "execution_count": 1,
   "id": "169775e8",
   "metadata": {},
   "outputs": [],
   "source": [
    "#example\n",
    "myset=set()"
   ]
  },
  {
   "cell_type": "code",
   "execution_count": 2,
   "id": "5aadbaab",
   "metadata": {},
   "outputs": [
    {
     "data": {
      "text/plain": [
       "{1}"
      ]
     },
     "execution_count": 2,
     "metadata": {},
     "output_type": "execute_result"
    }
   ],
   "source": [
    "myset.add(1)\n",
    "myset"
   ]
  },
  {
   "cell_type": "code",
   "execution_count": 3,
   "id": "d7550d1e",
   "metadata": {},
   "outputs": [
    {
     "data": {
      "text/plain": [
       "{1}"
      ]
     },
     "execution_count": 3,
     "metadata": {},
     "output_type": "execute_result"
    }
   ],
   "source": [
    "myset.add(1)\n",
    "myset"
   ]
  },
  {
   "cell_type": "code",
   "execution_count": 4,
   "id": "95995bc0",
   "metadata": {},
   "outputs": [
    {
     "data": {
      "text/plain": [
       "{1, 2}"
      ]
     },
     "execution_count": 4,
     "metadata": {},
     "output_type": "execute_result"
    }
   ],
   "source": [
    "myset.add(2)\n",
    "myset"
   ]
  },
  {
   "cell_type": "code",
   "execution_count": 6,
   "id": "3b51d513",
   "metadata": {},
   "outputs": [
    {
     "data": {
      "text/plain": [
       "{1, 2, 'Hello'}"
      ]
     },
     "execution_count": 6,
     "metadata": {},
     "output_type": "execute_result"
    }
   ],
   "source": [
    "#From above we can see that a set is a collection of unique elements\n",
    "#It is not a dictionary as it does not have a key value pair\n",
    "myset.add('Hello')\n",
    "myset"
   ]
  },
  {
   "cell_type": "markdown",
   "id": "9f3e00fc",
   "metadata": {},
   "source": [
    "**Sets** can be used  to find the number of unique items in a list"
   ]
  },
  {
   "cell_type": "code",
   "execution_count": 7,
   "id": "5b1e06c8",
   "metadata": {},
   "outputs": [
    {
     "data": {
      "text/plain": [
       "{1, 2, 3}"
      ]
     },
     "execution_count": 7,
     "metadata": {},
     "output_type": "execute_result"
    }
   ],
   "source": [
    "this_list=[1,1,1,2,2,3]\n",
    "set(this_list)"
   ]
  },
  {
   "cell_type": "code",
   "execution_count": 8,
   "id": "214d8a1c",
   "metadata": {},
   "outputs": [
    {
     "data": {
      "text/plain": [
       "[1, 1, 1, 2, 2, 3]"
      ]
     },
     "execution_count": 8,
     "metadata": {},
     "output_type": "execute_result"
    }
   ],
   "source": [
    "this_list"
   ]
  },
  {
   "cell_type": "code",
   "execution_count": 10,
   "id": "7df16046",
   "metadata": {},
   "outputs": [
    {
     "data": {
      "text/plain": [
       "4"
      ]
     },
     "execution_count": 10,
     "metadata": {},
     "output_type": "execute_result"
    }
   ],
   "source": [
    "this_list=[1,2,3,3,4,4,4]\n",
    "unique_number_of_elements=len(set(this_list))\n",
    "unique_number_of_elements"
   ]
  },
  {
   "cell_type": "markdown",
   "id": "f59fc72b",
   "metadata": {},
   "source": [
    "# Booleans \n",
    "<br>\n",
    "In python, booleans are represented by **True**  or  **False**"
   ]
  },
  {
   "cell_type": "code",
   "execution_count": 11,
   "id": "ea79054e",
   "metadata": {},
   "outputs": [
    {
     "data": {
      "text/plain": [
       "True"
      ]
     },
     "execution_count": 11,
     "metadata": {},
     "output_type": "execute_result"
    }
   ],
   "source": [
    "True"
   ]
  },
  {
   "cell_type": "code",
   "execution_count": 12,
   "id": "d4fab7b9",
   "metadata": {},
   "outputs": [
    {
     "data": {
      "text/plain": [
       "False"
      ]
     },
     "execution_count": 12,
     "metadata": {},
     "output_type": "execute_result"
    }
   ],
   "source": [
    "False"
   ]
  },
  {
   "cell_type": "code",
   "execution_count": 13,
   "id": "4747a2e5",
   "metadata": {},
   "outputs": [
    {
     "data": {
      "text/plain": [
       "bool"
      ]
     },
     "execution_count": 13,
     "metadata": {},
     "output_type": "execute_result"
    }
   ],
   "source": [
    "type(True)"
   ]
  },
  {
   "cell_type": "code",
   "execution_count": 14,
   "id": "ae810436",
   "metadata": {},
   "outputs": [
    {
     "data": {
      "text/plain": [
       "bool"
      ]
     },
     "execution_count": 14,
     "metadata": {},
     "output_type": "execute_result"
    }
   ],
   "source": [
    "type(False)"
   ]
  },
  {
   "cell_type": "code",
   "execution_count": 15,
   "id": "6d91f9f8",
   "metadata": {},
   "outputs": [
    {
     "data": {
      "text/plain": [
       "False"
      ]
     },
     "execution_count": 15,
     "metadata": {},
     "output_type": "execute_result"
    }
   ],
   "source": [
    "1==2"
   ]
  },
  {
   "cell_type": "markdown",
   "id": "e2b424f6",
   "metadata": {},
   "source": [
    "1==1"
   ]
  },
  {
   "cell_type": "markdown",
   "id": "f8b9c9b5",
   "metadata": {},
   "source": [
    "**None** keyword is used as a placeholder for an object that we don't want to assign yet."
   ]
  },
  {
   "cell_type": "code",
   "execution_count": 17,
   "id": "a705d612",
   "metadata": {},
   "outputs": [],
   "source": [
    "b=None"
   ]
  },
  {
   "cell_type": "code",
   "execution_count": 18,
   "id": "b094e7fb",
   "metadata": {},
   "outputs": [],
   "source": [
    "b"
   ]
  },
  {
   "cell_type": "code",
   "execution_count": 19,
   "id": "98025f2f",
   "metadata": {},
   "outputs": [
    {
     "ename": "NameError",
     "evalue": "name 'k' is not defined",
     "output_type": "error",
     "traceback": [
      "\u001b[1;31m---------------------------------------------------------------------------\u001b[0m",
      "\u001b[1;31mNameError\u001b[0m                                 Traceback (most recent call last)",
      "\u001b[1;32m~\\AppData\\Local\\Temp/ipykernel_11400/3760656076.py\u001b[0m in \u001b[0;36m<module>\u001b[1;34m\u001b[0m\n\u001b[1;32m----> 1\u001b[1;33m \u001b[0mk\u001b[0m\u001b[1;33m\u001b[0m\u001b[1;33m\u001b[0m\u001b[0m\n\u001b[0m",
      "\u001b[1;31mNameError\u001b[0m: name 'k' is not defined"
     ]
    }
   ],
   "source": [
    "k"
   ]
  },
  {
   "cell_type": "markdown",
   "id": "34def843",
   "metadata": {},
   "source": [
    "To avoid errors as shown above, we use the keyword None"
   ]
  },
  {
   "cell_type": "code",
   "execution_count": null,
   "id": "be5cbfaf",
   "metadata": {},
   "outputs": [],
   "source": []
  }
 ],
 "metadata": {
  "kernelspec": {
   "display_name": "Python 3 (ipykernel)",
   "language": "python",
   "name": "python3"
  },
  "language_info": {
   "codemirror_mode": {
    "name": "ipython",
    "version": 3
   },
   "file_extension": ".py",
   "mimetype": "text/x-python",
   "name": "python",
   "nbconvert_exporter": "python",
   "pygments_lexer": "ipython3",
   "version": "3.9.7"
  }
 },
 "nbformat": 4,
 "nbformat_minor": 5
}
