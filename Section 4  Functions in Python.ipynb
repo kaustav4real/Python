{
 "cells": [
  {
   "cell_type": "markdown",
   "id": "4da4e387",
   "metadata": {},
   "source": [
    "# Functions in Python <br>\n",
    "The help function is a default function provided by Python whcich gives us the property of a method. <br>\n",
    "Example."
   ]
  },
  {
   "cell_type": "code",
   "execution_count": 2,
   "id": "529059f9",
   "metadata": {},
   "outputs": [
    {
     "name": "stdout",
     "output_type": "stream",
     "text": [
      "Help on NoneType object:\n",
      "\n",
      "class NoneType(object)\n",
      " |  Methods defined here:\n",
      " |  \n",
      " |  __bool__(self, /)\n",
      " |      self != 0\n",
      " |  \n",
      " |  __repr__(self, /)\n",
      " |      Return repr(self).\n",
      " |  \n",
      " |  ----------------------------------------------------------------------\n",
      " |  Static methods defined here:\n",
      " |  \n",
      " |  __new__(*args, **kwargs) from builtins.type\n",
      " |      Create and return a new object.  See help(type) for accurate signature.\n",
      "\n"
     ]
    }
   ],
   "source": [
    "my_list=[1,2,3,4]\n",
    "help(my_list.append(5))"
   ]
  },
  {
   "cell_type": "code",
   "execution_count": 3,
   "id": "8b13c383",
   "metadata": {},
   "outputs": [
    {
     "name": "stdout",
     "output_type": "stream",
     "text": [
      "Help on built-in function append:\n",
      "\n",
      "append(object, /) method of builtins.list instance\n",
      "    Append object to the end of the list.\n",
      "\n"
     ]
    }
   ],
   "source": [
    "help(my_list.append)"
   ]
  },
  {
   "cell_type": "markdown",
   "id": "3e766214",
   "metadata": {},
   "source": [
    "## def keyword"
   ]
  },
  {
   "cell_type": "code",
   "execution_count": 4,
   "id": "6b6dc6b1",
   "metadata": {},
   "outputs": [
    {
     "data": {
      "text/plain": [
       "\" //function prototype\\n\\ndef name_of_function():\\n    print('Hello')\\n    \\n    //function call\\nname_of_function()    \\n    \\n\""
      ]
     },
     "execution_count": 4,
     "metadata": {},
     "output_type": "execute_result"
    }
   ],
   "source": [
    "#syntax of a function in python\n",
    "\n",
    "#\n",
    "''' //function prototype\n",
    "\n",
    "def name_of_function():\n",
    "    print('Hello')\n",
    "    \n",
    "    //function call\n",
    "name_of_function()    \n",
    "    \n",
    "'''\n",
    "\n",
    "# Note: in python, we use snake casing"
   ]
  },
  {
   "cell_type": "code",
   "execution_count": 5,
   "id": "ed0fd4f2",
   "metadata": {},
   "outputs": [
    {
     "name": "stdout",
     "output_type": "stream",
     "text": [
      "Hello Kaustav\n"
     ]
    }
   ],
   "source": [
    "#n A function with a parameter\n",
    "\n",
    "def print_name(name):\n",
    "    print('Hello '+name)\n",
    "print_name('Kaustav')"
   ]
  },
  {
   "cell_type": "code",
   "execution_count": 6,
   "id": "73a35ec7",
   "metadata": {},
   "outputs": [
    {
     "name": "stdout",
     "output_type": "stream",
     "text": [
      "23246\n"
     ]
    }
   ],
   "source": [
    "# Function to add two numbers\n",
    "\n",
    "def add(num1,num2):\n",
    "    return (num1+num2)\n",
    "result=add(10000,13246)\n",
    "print(result)"
   ]
  },
  {
   "cell_type": "markdown",
   "id": "2b9bce6b",
   "metadata": {},
   "source": [
    "While dealing with function with a parameter, if we forget to provide any argument, we will get a TypeError.  <br>\n",
    "To avoid this, we can give a default value to the paramter at the time of defining the function as show below."
   ]
  },
  {
   "cell_type": "code",
   "execution_count": 7,
   "id": "d5b7c310",
   "metadata": {},
   "outputs": [],
   "source": [
    "def Name(firstName='Kaustav'):\n",
    "    print(firstName)"
   ]
  },
  {
   "cell_type": "code",
   "execution_count": 10,
   "id": "5f69e916",
   "metadata": {
    "scrolled": true
   },
   "outputs": [
    {
     "name": "stdout",
     "output_type": "stream",
     "text": [
      "Jisoo\n"
     ]
    }
   ],
   "source": [
    "Name('Jisoo')"
   ]
  },
  {
   "cell_type": "code",
   "execution_count": 11,
   "id": "a036528c",
   "metadata": {},
   "outputs": [
    {
     "name": "stdout",
     "output_type": "stream",
     "text": [
      "Kaustav\n"
     ]
    }
   ],
   "source": [
    "Name()"
   ]
  },
  {
   "cell_type": "markdown",
   "id": "9c3d67e9",
   "metadata": {},
   "source": [
    "## Functions with logic"
   ]
  },
  {
   "cell_type": "code",
   "execution_count": 12,
   "id": "9412ad64",
   "metadata": {},
   "outputs": [],
   "source": [
    "# Function to check whether a number is even or odd\n",
    "\n",
    "def check_even_or_odd(num):\n",
    "    return num%2==0"
   ]
  },
  {
   "cell_type": "code",
   "execution_count": 13,
   "id": "93f28720",
   "metadata": {},
   "outputs": [
    {
     "data": {
      "text/plain": [
       "True"
      ]
     },
     "execution_count": 13,
     "metadata": {},
     "output_type": "execute_result"
    }
   ],
   "source": [
    "check_even_or_odd(20)"
   ]
  },
  {
   "cell_type": "code",
   "execution_count": 14,
   "id": "de3c6f2b",
   "metadata": {},
   "outputs": [
    {
     "data": {
      "text/plain": [
       "False"
      ]
     },
     "execution_count": 14,
     "metadata": {},
     "output_type": "execute_result"
    }
   ],
   "source": [
    "check_even_or_odd(21)"
   ]
  },
  {
   "cell_type": "code",
   "execution_count": 23,
   "id": "b0088e21",
   "metadata": {},
   "outputs": [],
   "source": [
    "# Write a function that returns true if any number in the list is even\n",
    "my_list=[1,2,3,4,5]\n",
    "\n",
    "def check_even(provided_list):\n",
    "    for x in provided_list:\n",
    "        if x%2==0:\n",
    "            return True\n",
    "        else:\n",
    "            pass\n",
    "    return False"
   ]
  },
  {
   "cell_type": "code",
   "execution_count": 24,
   "id": "8a473452",
   "metadata": {},
   "outputs": [
    {
     "data": {
      "text/plain": [
       "True"
      ]
     },
     "execution_count": 24,
     "metadata": {},
     "output_type": "execute_result"
    }
   ],
   "source": [
    "check_even(my_list)"
   ]
  },
  {
   "cell_type": "code",
   "execution_count": 25,
   "id": "98a35496",
   "metadata": {},
   "outputs": [
    {
     "data": {
      "text/plain": [
       "False"
      ]
     },
     "execution_count": 25,
     "metadata": {},
     "output_type": "execute_result"
    }
   ],
   "source": [
    "check_even([1,3,5])"
   ]
  },
  {
   "cell_type": "code",
   "execution_count": 32,
   "id": "8772721a",
   "metadata": {},
   "outputs": [],
   "source": [
    "# Write a function that returns an a list of even numbers from a diffferent list\n",
    "\n",
    "def return_even_list(provided_list):\n",
    "    even_list=[]\n",
    "    for x in provided_list:\n",
    "        if x%2==0:\n",
    "            even_list.append(x)\n",
    "        else:\n",
    "            pass\n",
    "    return even_list"
   ]
  },
  {
   "cell_type": "code",
   "execution_count": 33,
   "id": "278c2667",
   "metadata": {},
   "outputs": [
    {
     "data": {
      "text/plain": [
       "[2, 4, 6, 8, 10]"
      ]
     },
     "execution_count": 33,
     "metadata": {},
     "output_type": "execute_result"
    }
   ],
   "source": [
    "return_even_list([1,2,3,4,5,6,7,8,9,10])"
   ]
  },
  {
   "cell_type": "code",
   "execution_count": 34,
   "id": "72daf43f",
   "metadata": {},
   "outputs": [
    {
     "data": {
      "text/plain": [
       "[]"
      ]
     },
     "execution_count": 34,
     "metadata": {},
     "output_type": "execute_result"
    }
   ],
   "source": [
    "my_list=[1,3,5,7,9]\n",
    "return_even_list(my_list)"
   ]
  },
  {
   "cell_type": "markdown",
   "id": "8b2cfc96",
   "metadata": {},
   "source": [
    "## Tuple unpacking with Python functions"
   ]
  },
  {
   "cell_type": "markdown",
   "id": "1ba9558a",
   "metadata": {},
   "source": [
    "#### We can understand tuple unpacking through functions with the follwoing example"
   ]
  },
  {
   "cell_type": "code",
   "execution_count": 42,
   "id": "417b9f2e",
   "metadata": {},
   "outputs": [
    {
     "data": {
      "text/plain": [
       "('Levi', 180)"
      ]
     },
     "execution_count": 42,
     "metadata": {},
     "output_type": "execute_result"
    }
   ],
   "source": [
    "#From a list of tuples of Employee name and the hours they have worked, return the Employee who has worked most amount of hours\n",
    "\n",
    "employee_data=[('Eren',24),('Levi',180),('Mikasa',17),('Hange',12)]\n",
    "\n",
    "def Employye_of_the_month(provided_data):\n",
    "    maxHours=0\n",
    "    employeeName=''\n",
    "    for employee,hours in provided_data:\n",
    "        if hours>maxHours:\n",
    "            maxHours=hours\n",
    "            employeeName=employee\n",
    "        else:\n",
    "            pass\n",
    "    return (employeeName,maxHours)\n",
    "\n",
    "Employye_of_the_month(employee_data)"
   ]
  },
  {
   "cell_type": "markdown",
   "id": "3498eb0e",
   "metadata": {},
   "source": [
    "### interactions between functions in python"
   ]
  },
  {
   "cell_type": "code",
   "execution_count": 71,
   "id": "9b14928d",
   "metadata": {},
   "outputs": [],
   "source": [
    "my_list=['','','0'];\n",
    "from random import shuffle"
   ]
  },
  {
   "cell_type": "code",
   "execution_count": 72,
   "id": "c2790cf2",
   "metadata": {},
   "outputs": [],
   "source": [
    "def start_game(given_list):\n",
    "    shuffle(given_list)\n",
    "    return given_list"
   ]
  },
  {
   "cell_type": "code",
   "execution_count": 73,
   "id": "619bf3ed",
   "metadata": {},
   "outputs": [
    {
     "data": {
      "text/plain": [
       "['', '', '0']"
      ]
     },
     "execution_count": 73,
     "metadata": {},
     "output_type": "execute_result"
    }
   ],
   "source": [
    "my_list"
   ]
  },
  {
   "cell_type": "code",
   "execution_count": 74,
   "id": "dc77d81b",
   "metadata": {},
   "outputs": [],
   "source": [
    "def users_choice():\n",
    "    user_guess=int(input('Choose between 0,1,or 2'));\n",
    "    return user_guess"
   ]
  },
  {
   "cell_type": "code",
   "execution_count": 75,
   "id": "b957e3e1",
   "metadata": {},
   "outputs": [],
   "source": [
    "def check_answer(given_list,choosen_number):\n",
    "    if given_list[choosen_number]=='0':\n",
    "        return 'Correct Guess'\n",
    "    else:\n",
    "        return 'In Correct Guess'"
   ]
  },
  {
   "cell_type": "code",
   "execution_count": 81,
   "id": "79bdaeae",
   "metadata": {},
   "outputs": [
    {
     "name": "stdout",
     "output_type": "stream",
     "text": [
      "Choose between 0,1,or 22\n"
     ]
    },
    {
     "data": {
      "text/plain": [
       "'In Correct Guess'"
      ]
     },
     "execution_count": 81,
     "metadata": {},
     "output_type": "execute_result"
    }
   ],
   "source": [
    "my_list=['0','','']\n",
    "\n",
    "shuffled_list=start_game(my_list)\n",
    "choice=users_choice()\n",
    "check_answer(shuffled_list,choice)"
   ]
  },
  {
   "cell_type": "markdown",
   "id": "eac31b09",
   "metadata": {},
   "source": [
    "#### *args and **kwargs in python\n",
    "<br> args stand for arguments <br>\n",
    "kwargs stand for keyword arguments"
   ]
  },
  {
   "cell_type": "code",
   "execution_count": 84,
   "id": "8417d3ae",
   "metadata": {},
   "outputs": [],
   "source": [
    "# when we assign *args, we are assigning a variable number of parameters to a function.\n",
    "\n",
    "# For example\n",
    "\n",
    "def num(*args):\n",
    "    result=0\n",
    "    for x in args:\n",
    "        result+=x\n",
    "    return result"
   ]
  },
  {
   "cell_type": "code",
   "execution_count": 85,
   "id": "7330ee67",
   "metadata": {},
   "outputs": [
    {
     "data": {
      "text/plain": [
       "6"
      ]
     },
     "execution_count": 85,
     "metadata": {},
     "output_type": "execute_result"
    }
   ],
   "source": [
    "num(1,2,3)"
   ]
  },
  {
   "cell_type": "code",
   "execution_count": 91,
   "id": "e312b291",
   "metadata": {},
   "outputs": [],
   "source": [
    "# **kwargs \n",
    "def myfunc(**kwargs):\n",
    "    print(kwargs)\n",
    "    if 'veggie' in kwargs:\n",
    "        print('My fruit of choice is {}'.format(kwargs['veggie']))\n",
    "    else:\n",
    "        print('I did not find any fruit here')"
   ]
  },
  {
   "cell_type": "code",
   "execution_count": 92,
   "id": "786fff96",
   "metadata": {},
   "outputs": [
    {
     "name": "stdout",
     "output_type": "stream",
     "text": [
      "{'fruit': 'apple', 'veggie': 'lettuce'}\n",
      "My fruit of choice is lettuce\n"
     ]
    }
   ],
   "source": [
    "myfunc(fruit='apple',veggie='lettuce')"
   ]
  },
  {
   "cell_type": "code",
   "execution_count": 93,
   "id": "c492a246",
   "metadata": {},
   "outputs": [],
   "source": [
    "# using kwargs and args together\n",
    "\n",
    "def myfunc(*args,**kwargs):\n",
    "    print('I would like {} {}'.format(args[0],kwargs['games']))"
   ]
  },
  {
   "cell_type": "code",
   "execution_count": 94,
   "id": "8aca5f0c",
   "metadata": {},
   "outputs": [
    {
     "name": "stdout",
     "output_type": "stream",
     "text": [
      "I would like to GTA\n"
     ]
    }
   ],
   "source": [
    "myfunc('to',20,30,games='GTA')"
   ]
  },
  {
   "cell_type": "code",
   "execution_count": 110,
   "id": "1ef7b388",
   "metadata": {
    "scrolled": true
   },
   "outputs": [],
   "source": [
    "def length(string):\n",
    "    l=len(string)\n",
    "    res=''\n",
    "    for x in range(0,l):\n",
    "        if x%2==0:\n",
    "            res+=string[x].upper()\n",
    "        else:\n",
    "            res+=string[x].lower()\n",
    "    return res"
   ]
  },
  {
   "cell_type": "code",
   "execution_count": 111,
   "id": "00e269e1",
   "metadata": {},
   "outputs": [
    {
     "data": {
      "text/plain": [
       "'HeLlO'"
      ]
     },
     "execution_count": 111,
     "metadata": {},
     "output_type": "execute_result"
    }
   ],
   "source": [
    "length('Hello')"
   ]
  },
  {
   "cell_type": "code",
   "execution_count": 112,
   "id": "66cac1c1",
   "metadata": {},
   "outputs": [],
   "source": [
    "# Write a function that returns the lesser of two given numbers if both numbers are even, but returns the greater if one or \n",
    "# both numbers are odd\n",
    "def fun(a,b):\n",
    "    if a%2==0 and b%2==0:\n",
    "        if a>b:\n",
    "            return b\n",
    "        else:\n",
    "            return a\n",
    "    else:\n",
    "        if a>b:\n",
    "            return a\n",
    "        else:\n",
    "            return b"
   ]
  },
  {
   "cell_type": "code",
   "execution_count": 113,
   "id": "cfc45a21",
   "metadata": {},
   "outputs": [
    {
     "data": {
      "text/plain": [
       "2"
      ]
     },
     "execution_count": 113,
     "metadata": {},
     "output_type": "execute_result"
    }
   ],
   "source": [
    "fun(2,4)"
   ]
  },
  {
   "cell_type": "code",
   "execution_count": 114,
   "id": "9b8d8e5f",
   "metadata": {},
   "outputs": [
    {
     "data": {
      "text/plain": [
       "3"
      ]
     },
     "execution_count": 114,
     "metadata": {},
     "output_type": "execute_result"
    }
   ],
   "source": [
    "fun(1,3)"
   ]
  },
  {
   "cell_type": "code",
   "execution_count": 115,
   "id": "bba0b824",
   "metadata": {},
   "outputs": [],
   "source": [
    "# Another approach for the abive problem is\n",
    "\n",
    "def fun(a,b):\n",
    "    if a%2==0 and b%2==0:\n",
    "        return min(a,b)\n",
    "    else:\n",
    "        return max(a,b)"
   ]
  },
  {
   "cell_type": "code",
   "execution_count": 116,
   "id": "625ea9df",
   "metadata": {},
   "outputs": [
    {
     "data": {
      "text/plain": [
       "10"
      ]
     },
     "execution_count": 116,
     "metadata": {},
     "output_type": "execute_result"
    }
   ],
   "source": [
    "fun(10,20)"
   ]
  },
  {
   "cell_type": "code",
   "execution_count": 117,
   "id": "48b8be30",
   "metadata": {},
   "outputs": [
    {
     "data": {
      "text/plain": [
       "10"
      ]
     },
     "execution_count": 117,
     "metadata": {},
     "output_type": "execute_result"
    }
   ],
   "source": [
    "fun(10,9)"
   ]
  },
  {
   "cell_type": "markdown",
   "id": "61c55aa1",
   "metadata": {},
   "source": [
    "#### Write a function that takes a two word string and returns True if both begin with same letter"
   ]
  },
  {
   "cell_type": "code",
   "execution_count": 120,
   "id": "93e12aab",
   "metadata": {},
   "outputs": [],
   "source": [
    "def word(string):\n",
    "    l1=string[0]\n",
    "    temp=0\n",
    "    for x in range(0,len(string)):\n",
    "        if string[x]==' ':\n",
    "            temp=x+1\n",
    "    l2=string[temp]\n",
    "    if l1==l2:\n",
    "        return True\n",
    "    else:\n",
    "        return False"
   ]
  },
  {
   "cell_type": "code",
   "execution_count": 121,
   "id": "9f88dec4",
   "metadata": {},
   "outputs": [
    {
     "data": {
      "text/plain": [
       "True"
      ]
     },
     "execution_count": 121,
     "metadata": {},
     "output_type": "execute_result"
    }
   ],
   "source": [
    "word('Delhi Delhi')"
   ]
  },
  {
   "cell_type": "code",
   "execution_count": 122,
   "id": "4af285a0",
   "metadata": {},
   "outputs": [
    {
     "data": {
      "text/plain": [
       "False"
      ]
     },
     "execution_count": 122,
     "metadata": {},
     "output_type": "execute_result"
    }
   ],
   "source": [
    "word('Delhi Ghy')"
   ]
  },
  {
   "cell_type": "code",
   "execution_count": 123,
   "id": "a0e87336",
   "metadata": {},
   "outputs": [],
   "source": [
    "# Another way of solving this problem is\n",
    "\n",
    "def word(string):\n",
    "    my_list=string.split()\n",
    "    f=my_list[0]\n",
    "    l=my_list[1]\n",
    "    if f[0]==l[0]:\n",
    "        return True\n",
    "    else:\n",
    "        return False\n"
   ]
  },
  {
   "cell_type": "code",
   "execution_count": 124,
   "id": "2d8eb5cc",
   "metadata": {},
   "outputs": [
    {
     "data": {
      "text/plain": [
       "True"
      ]
     },
     "execution_count": 124,
     "metadata": {},
     "output_type": "execute_result"
    }
   ],
   "source": [
    "word('Hello Hola')"
   ]
  },
  {
   "cell_type": "code",
   "execution_count": 125,
   "id": "4efa6181",
   "metadata": {},
   "outputs": [
    {
     "data": {
      "text/plain": [
       "False"
      ]
     },
     "execution_count": 125,
     "metadata": {},
     "output_type": "execute_result"
    }
   ],
   "source": [
    "word('Chicken Fries')"
   ]
  },
  {
   "cell_type": "code",
   "execution_count": 126,
   "id": "efa286df",
   "metadata": {},
   "outputs": [],
   "source": [
    "#The above problem can further be shortened as\n",
    "def word(string):\n",
    "    my_list=string.split()\n",
    "    return my_list[0][0]==my_list[1][0]"
   ]
  },
  {
   "cell_type": "code",
   "execution_count": 127,
   "id": "1c2a7acd",
   "metadata": {},
   "outputs": [
    {
     "data": {
      "text/plain": [
       "True"
      ]
     },
     "execution_count": 127,
     "metadata": {},
     "output_type": "execute_result"
    }
   ],
   "source": [
    "word('Hello Hola')"
   ]
  },
  {
   "cell_type": "code",
   "execution_count": 128,
   "id": "5f9d7369",
   "metadata": {},
   "outputs": [
    {
     "data": {
      "text/plain": [
       "False"
      ]
     },
     "execution_count": 128,
     "metadata": {},
     "output_type": "execute_result"
    }
   ],
   "source": [
    "word('Hello Chicken')"
   ]
  },
  {
   "cell_type": "markdown",
   "id": "71249b0e",
   "metadata": {},
   "source": [
    "#### write a function that takes two integers, return true if the sum is 20 or if one of the integers is 20. If not return False"
   ]
  },
  {
   "cell_type": "code",
   "execution_count": 129,
   "id": "44f152e1",
   "metadata": {},
   "outputs": [],
   "source": [
    "def makes_twenty(a,b):\n",
    "    if a+b==20 or a==20 or b==20:\n",
    "        return True\n",
    "    else:\n",
    "        return False"
   ]
  },
  {
   "cell_type": "code",
   "execution_count": 130,
   "id": "b81d8367",
   "metadata": {},
   "outputs": [
    {
     "data": {
      "text/plain": [
       "True"
      ]
     },
     "execution_count": 130,
     "metadata": {},
     "output_type": "execute_result"
    }
   ],
   "source": [
    "makes_twenty(12,8)"
   ]
  },
  {
   "cell_type": "code",
   "execution_count": 131,
   "id": "d1ce2b1d",
   "metadata": {},
   "outputs": [
    {
     "data": {
      "text/plain": [
       "True"
      ]
     },
     "execution_count": 131,
     "metadata": {},
     "output_type": "execute_result"
    }
   ],
   "source": [
    "makes_twenty(20,0)"
   ]
  },
  {
   "cell_type": "code",
   "execution_count": 132,
   "id": "1d0e4192",
   "metadata": {},
   "outputs": [
    {
     "data": {
      "text/plain": [
       "True"
      ]
     },
     "execution_count": 132,
     "metadata": {},
     "output_type": "execute_result"
    }
   ],
   "source": [
    "makes_twenty(20,56)"
   ]
  },
  {
   "cell_type": "code",
   "execution_count": 133,
   "id": "9ec6b82e",
   "metadata": {},
   "outputs": [
    {
     "data": {
      "text/plain": [
       "True"
      ]
     },
     "execution_count": 133,
     "metadata": {},
     "output_type": "execute_result"
    }
   ],
   "source": [
    "makes_twenty(23,-3)"
   ]
  },
  {
   "cell_type": "code",
   "execution_count": 134,
   "id": "cb2d3a7f",
   "metadata": {},
   "outputs": [
    {
     "data": {
      "text/plain": [
       "False"
      ]
     },
     "execution_count": 134,
     "metadata": {},
     "output_type": "execute_result"
    }
   ],
   "source": [
    "makes_twenty(12,12)"
   ]
  },
  {
   "cell_type": "code",
   "execution_count": 136,
   "id": "c5bee393",
   "metadata": {},
   "outputs": [],
   "source": [
    "# Ina single line of code\n",
    "def makes_twenty(a,b):\n",
    "    return (a+b==20) or a==20 or b==20\n",
    "    "
   ]
  },
  {
   "cell_type": "code",
   "execution_count": 137,
   "id": "cfd26f5c",
   "metadata": {},
   "outputs": [
    {
     "data": {
      "text/plain": [
       "True"
      ]
     },
     "execution_count": 137,
     "metadata": {},
     "output_type": "execute_result"
    }
   ],
   "source": [
    "makes_twenty(20,0)"
   ]
  },
  {
   "cell_type": "markdown",
   "id": "5786009f",
   "metadata": {},
   "source": [
    "#### Write a function that capitalizes the first and fourth letters of a name"
   ]
  },
  {
   "cell_type": "code",
   "execution_count": 141,
   "id": "8811e9ec",
   "metadata": {},
   "outputs": [],
   "source": [
    "def fun(string):\n",
    "    l=len(string)\n",
    "    result=''\n",
    "    for x in range(0,l):\n",
    "        if x==0 or x==3:\n",
    "            result+=string[x].upper()\n",
    "        else:\n",
    "            result+=string[x]\n",
    "    return result"
   ]
  },
  {
   "cell_type": "code",
   "execution_count": 143,
   "id": "278c8971",
   "metadata": {},
   "outputs": [
    {
     "data": {
      "text/plain": [
       "'MacDonald'"
      ]
     },
     "execution_count": 143,
     "metadata": {},
     "output_type": "execute_result"
    }
   ],
   "source": [
    "fun('macdonald')"
   ]
  },
  {
   "cell_type": "code",
   "execution_count": 144,
   "id": "4e4f5a63",
   "metadata": {},
   "outputs": [],
   "source": [
    "# another way\n",
    "def fun(string):\n",
    "    first=string[0]\n",
    "    mid=string[1:3]\n",
    "    fourth=string[3]\n",
    "    end=string[4:]\n",
    "    return first.upper()+mid+fourth.upper()+end"
   ]
  },
  {
   "cell_type": "code",
   "execution_count": 146,
   "id": "5baeb2b6",
   "metadata": {},
   "outputs": [
    {
     "data": {
      "text/plain": [
       "'MacDonald'"
      ]
     },
     "execution_count": 146,
     "metadata": {},
     "output_type": "execute_result"
    }
   ],
   "source": [
    "fun('macdonald')"
   ]
  },
  {
   "cell_type": "code",
   "execution_count": 147,
   "id": "689b25a8",
   "metadata": {},
   "outputs": [],
   "source": [
    "#Another way\n",
    "def fun(string):\n",
    "    first=string[:3]\n",
    "    second=string[3:]\n",
    "    return first.capitalize()+second.capitalize()"
   ]
  },
  {
   "cell_type": "code",
   "execution_count": 148,
   "id": "317b8e58",
   "metadata": {},
   "outputs": [
    {
     "data": {
      "text/plain": [
       "'MacDonald'"
      ]
     },
     "execution_count": 148,
     "metadata": {},
     "output_type": "execute_result"
    }
   ],
   "source": [
    "fun('macdonald')"
   ]
  },
  {
   "cell_type": "markdown",
   "id": "c0552602",
   "metadata": {},
   "source": [
    "#### Given a sentence, return a sentence with the words rversed"
   ]
  },
  {
   "cell_type": "code",
   "execution_count": 151,
   "id": "95a43227",
   "metadata": {},
   "outputs": [],
   "source": [
    "def fun(string):\n",
    "    lists=string.split()\n",
    "    lists=lists[::-1]\n",
    "    return lists\n",
    "        "
   ]
  },
  {
   "cell_type": "code",
   "execution_count": 152,
   "id": "3b339f16",
   "metadata": {},
   "outputs": [
    {
     "data": {
      "text/plain": [
       "['home', 'am', 'I']"
      ]
     },
     "execution_count": 152,
     "metadata": {},
     "output_type": "execute_result"
    }
   ],
   "source": [
    "fun('I am home')"
   ]
  },
  {
   "cell_type": "markdown",
   "id": "ed4b2497",
   "metadata": {},
   "source": [
    "But the above output is a list rather than a string <br>\n",
    "To get the string, we shall use join off a string"
   ]
  },
  {
   "cell_type": "code",
   "execution_count": 153,
   "id": "3bf07f7e",
   "metadata": {},
   "outputs": [],
   "source": [
    "def fun(string):\n",
    "    lists=string.split()\n",
    "    lists=lists[::-1]\n",
    "    return ' '.join(lists)"
   ]
  },
  {
   "cell_type": "code",
   "execution_count": 154,
   "id": "9ffa287a",
   "metadata": {},
   "outputs": [
    {
     "data": {
      "text/plain": [
       "'home am I'"
      ]
     },
     "execution_count": 154,
     "metadata": {},
     "output_type": "execute_result"
    }
   ],
   "source": [
    "fun('I am home')"
   ]
  },
  {
   "cell_type": "markdown",
   "id": "71293cca",
   "metadata": {},
   "source": [
    "what the join off a string method does is it returns a string from the given lists with each element of the list sepearted by  \n",
    "the strings passed before... To amke it clear...we will check the following example"
   ]
  },
  {
   "cell_type": "code",
   "execution_count": 155,
   "id": "d3bd67ae",
   "metadata": {},
   "outputs": [
    {
     "data": {
      "text/plain": [
       "'Kaustav---Kakoty'"
      ]
     },
     "execution_count": 155,
     "metadata": {},
     "output_type": "execute_result"
    }
   ],
   "source": [
    "my_list=['Kaustav','Kakoty']\n",
    "\n",
    "'---'.join(my_list)"
   ]
  },
  {
   "cell_type": "code",
   "execution_count": 156,
   "id": "2f12d21a",
   "metadata": {},
   "outputs": [
    {
     "data": {
      "text/plain": [
       "'Kaustav hello Kakoty'"
      ]
     },
     "execution_count": 156,
     "metadata": {},
     "output_type": "execute_result"
    }
   ],
   "source": [
    "my_list=['Kaustav','Kakoty']\n",
    "\n",
    "' hello '.join(my_list)"
   ]
  },
  {
   "cell_type": "markdown",
   "id": "4cfa1aba",
   "metadata": {},
   "source": [
    "#### Given an integer n, return true if n is within 10 of either 100 or 200"
   ]
  },
  {
   "cell_type": "code",
   "execution_count": 157,
   "id": "5801beb4",
   "metadata": {},
   "outputs": [],
   "source": [
    "def within(n):\n",
    "    return (90<=n<=110)or(190<=n<=210)"
   ]
  },
  {
   "cell_type": "code",
   "execution_count": 158,
   "id": "ebf03cb4",
   "metadata": {},
   "outputs": [
    {
     "data": {
      "text/plain": [
       "False"
      ]
     },
     "execution_count": 158,
     "metadata": {},
     "output_type": "execute_result"
    }
   ],
   "source": [
    "within(20)"
   ]
  },
  {
   "cell_type": "code",
   "execution_count": 159,
   "id": "2fb95cfc",
   "metadata": {},
   "outputs": [
    {
     "data": {
      "text/plain": [
       "True"
      ]
     },
     "execution_count": 159,
     "metadata": {},
     "output_type": "execute_result"
    }
   ],
   "source": [
    "within(104)"
   ]
  },
  {
   "cell_type": "code",
   "execution_count": 160,
   "id": "84b872d2",
   "metadata": {},
   "outputs": [
    {
     "data": {
      "text/plain": [
       "True"
      ]
     },
     "execution_count": 160,
     "metadata": {},
     "output_type": "execute_result"
    }
   ],
   "source": [
    "within(90)"
   ]
  },
  {
   "cell_type": "code",
   "execution_count": 161,
   "id": "fa99c0bb",
   "metadata": {},
   "outputs": [
    {
     "data": {
      "text/plain": [
       "False"
      ]
     },
     "execution_count": 161,
     "metadata": {},
     "output_type": "execute_result"
    }
   ],
   "source": [
    "within(150)"
   ]
  },
  {
   "cell_type": "code",
   "execution_count": 163,
   "id": "cb0661a7",
   "metadata": {},
   "outputs": [],
   "source": [
    "#It acn also be written as \n",
    "def within(n):\n",
    "    return (abs(100-n)<=10) or (abs(200-n)<=10)  # abs(num) returns the absolute value of a number"
   ]
  },
  {
   "cell_type": "code",
   "execution_count": 164,
   "id": "fa4e296b",
   "metadata": {},
   "outputs": [
    {
     "data": {
      "text/plain": [
       "True"
      ]
     },
     "execution_count": 164,
     "metadata": {},
     "output_type": "execute_result"
    }
   ],
   "source": [
    "within(104)"
   ]
  },
  {
   "cell_type": "code",
   "execution_count": 165,
   "id": "1b9d1b56",
   "metadata": {},
   "outputs": [
    {
     "data": {
      "text/plain": [
       "False"
      ]
     },
     "execution_count": 165,
     "metadata": {},
     "output_type": "execute_result"
    }
   ],
   "source": [
    "within(150)"
   ]
  },
  {
   "cell_type": "markdown",
   "id": "852b983c",
   "metadata": {},
   "source": [
    "#### Given a list of ints, return true if the array conatins a 3 next to a 3 somewhere"
   ]
  },
  {
   "cell_type": "code",
   "execution_count": 12,
   "id": "7d33dced",
   "metadata": {},
   "outputs": [],
   "source": [
    "def fun(given_list):\n",
    "    for i in range(0,len(given_list)):\n",
    "        if given_list[i]==3 and given_list[i+1]==3:\n",
    "            return True\n",
    "    return False"
   ]
  },
  {
   "cell_type": "code",
   "execution_count": 13,
   "id": "d357abac",
   "metadata": {},
   "outputs": [
    {
     "data": {
      "text/plain": [
       "False"
      ]
     },
     "execution_count": 13,
     "metadata": {},
     "output_type": "execute_result"
    }
   ],
   "source": [
    "fun([1,2,3,4])"
   ]
  },
  {
   "cell_type": "code",
   "execution_count": 14,
   "id": "f00c7909",
   "metadata": {},
   "outputs": [
    {
     "data": {
      "text/plain": [
       "True"
      ]
     },
     "execution_count": 14,
     "metadata": {},
     "output_type": "execute_result"
    }
   ],
   "source": [
    "fun([1,2,3,3])"
   ]
  },
  {
   "cell_type": "markdown",
   "id": "afdd0d66",
   "metadata": {},
   "source": [
    "#### Given a string, return a string where for every character in the original there are three characters\n"
   ]
  },
  {
   "cell_type": "code",
   "execution_count": 40,
   "id": "13868af6",
   "metadata": {},
   "outputs": [],
   "source": [
    "def fun(string):\n",
    "    res=[]\n",
    "    for x in range(0,len(string)):\n",
    "        ip=string[x]+string[x]+string[x]\n",
    "        res.append(ip)\n",
    "        result=''.join(res)\n",
    "    return result"
   ]
  },
  {
   "cell_type": "code",
   "execution_count": 41,
   "id": "33987838",
   "metadata": {},
   "outputs": [
    {
     "data": {
      "text/plain": [
       "'hhheeellllllooo'"
      ]
     },
     "execution_count": 41,
     "metadata": {},
     "output_type": "execute_result"
    }
   ],
   "source": [
    "\n",
    "fun('hello')"
   ]
  },
  {
   "cell_type": "code",
   "execution_count": 42,
   "id": "9e672473",
   "metadata": {},
   "outputs": [],
   "source": [
    "#Anotehr way\n",
    "def fun(string):\n",
    "    result=''\n",
    "    \n",
    "    for char in string:\n",
    "        result+=char*3\n",
    "    return result"
   ]
  },
  {
   "cell_type": "code",
   "execution_count": 43,
   "id": "7b773750",
   "metadata": {},
   "outputs": [
    {
     "data": {
      "text/plain": [
       "'HHHEEEllllllooo'"
      ]
     },
     "execution_count": 43,
     "metadata": {},
     "output_type": "execute_result"
    }
   ],
   "source": [
    "fun('HEllo')"
   ]
  },
  {
   "cell_type": "markdown",
   "id": "5c1d4d36",
   "metadata": {},
   "source": [
    "#### Given three integers between 1 and 11, if their sum is less than or equal to 21, return thir sum. If their sum exceeds 21 and there's\n",
    "#### an 11, reduce the total sum by 10. Finally, if the sum(even after adjustment) exceeds 21, return 'Bust'"
   ]
  },
  {
   "cell_type": "code",
   "execution_count": 53,
   "id": "12cbd423",
   "metadata": {},
   "outputs": [],
   "source": [
    "def fun(a,b,c):\n",
    "    sums=a+b+c\n",
    "    if sums<=21:\n",
    "        return sums\n",
    "    elif sums>21 and (a==11 or b==11 or c==11):\n",
    "        sums=sums-10\n",
    "        if sums<=21:\n",
    "            return sums\n",
    "        else:\n",
    "            return 'Bust'"
   ]
  },
  {
   "cell_type": "code",
   "execution_count": 54,
   "id": "ca4c442c",
   "metadata": {},
   "outputs": [
    {
     "data": {
      "text/plain": [
       "14"
      ]
     },
     "execution_count": 54,
     "metadata": {},
     "output_type": "execute_result"
    }
   ],
   "source": [
    "fun(11,1,2)"
   ]
  },
  {
   "cell_type": "code",
   "execution_count": 55,
   "id": "daf5aeaa",
   "metadata": {},
   "outputs": [
    {
     "data": {
      "text/plain": [
       "14"
      ]
     },
     "execution_count": 55,
     "metadata": {},
     "output_type": "execute_result"
    }
   ],
   "source": [
    "fun(11,3,10)"
   ]
  },
  {
   "cell_type": "code",
   "execution_count": 57,
   "id": "6a9df37b",
   "metadata": {},
   "outputs": [
    {
     "data": {
      "text/plain": [
       "15"
      ]
     },
     "execution_count": 57,
     "metadata": {},
     "output_type": "execute_result"
    }
   ],
   "source": [
    "fun(5,5,5)"
   ]
  },
  {
   "cell_type": "markdown",
   "id": "f970f095",
   "metadata": {},
   "source": [
    "#### Return the sum of the numbers in the array, except ignore sections of numbers starting with a 6 and extendning to the next 9"
   ]
  },
  {
   "cell_type": "code",
   "execution_count": 63,
   "id": "e385aa69",
   "metadata": {},
   "outputs": [],
   "source": [
    "def fun(arr):\n",
    "    sum=0\n",
    "    for x in range(0,len(arr)):\n",
    "        if arr[x]==6:\n",
    "            f=x\n",
    "            break\n",
    "        else:\n",
    "            pass\n",
    "    \n",
    "    for y in range(0,len(arr)):\n",
    "        if arr[y]==9:\n",
    "            l=y\n",
    "            break\n",
    "        else:\n",
    "            pass\n",
    "    for z in range(0,len(arr)):\n",
    "        if f<=z<=l:\n",
    "            pass\n",
    "        else:\n",
    "            sum+=arr[z]\n",
    "    return sum"
   ]
  },
  {
   "cell_type": "code",
   "execution_count": 64,
   "id": "0f4b2532",
   "metadata": {},
   "outputs": [
    {
     "data": {
      "text/plain": [
       "19"
      ]
     },
     "execution_count": 64,
     "metadata": {},
     "output_type": "execute_result"
    }
   ],
   "source": [
    "fun([4,5,6,7,8,9,10])"
   ]
  },
  {
   "cell_type": "markdown",
   "id": "4674d70e",
   "metadata": {},
   "source": [
    "#### Write a function that takes in a list of integers and returns True if it contains 007 in order"
   ]
  },
  {
   "cell_type": "code",
   "execution_count": 24,
   "id": "795ae66d",
   "metadata": {},
   "outputs": [],
   "source": [
    "def fun(arr):\n",
    "    for x in range(0,len(arr)):\n",
    "        if arr[x]==0:\n",
    "            first=x\n",
    "            break\n",
    "    \n",
    "    for y in range(first+1,len(arr)):\n",
    "        if arr[y]==0:\n",
    "            second=y\n",
    "            break\n",
    "    \n",
    "    for z in range(0,len(arr)):\n",
    "        if arr[z]==7:\n",
    "            third=z\n",
    "            break\n",
    "    if first<second<third:\n",
    "        return True\n",
    "    else:\n",
    "        return False    "
   ]
  },
  {
   "cell_type": "code",
   "execution_count": 25,
   "id": "c1ba78bb",
   "metadata": {},
   "outputs": [
    {
     "data": {
      "text/plain": [
       "True"
      ]
     },
     "execution_count": 25,
     "metadata": {},
     "output_type": "execute_result"
    }
   ],
   "source": [
    "fun([0,1,2,0,3,4,7])"
   ]
  },
  {
   "cell_type": "markdown",
   "id": "860e3854",
   "metadata": {},
   "source": [
    "####  Write a program to determine the number of prime numbers in a number"
   ]
  },
  {
   "cell_type": "code",
   "execution_count": 26,
   "id": "3476f2e4",
   "metadata": {},
   "outputs": [],
   "source": [
    "def prime(num):\n",
    "    x=2\n",
    "    res=[]\n",
    "    while x<num:\n",
    "        if num%x==0:\n",
    "            return False\n",
    "        x=x+1\n",
    "    return True"
   ]
  },
  {
   "cell_type": "code",
   "execution_count": 23,
   "id": "2e7a3fa5",
   "metadata": {},
   "outputs": [
    {
     "data": {
      "text/plain": [
       "False"
      ]
     },
     "execution_count": 23,
     "metadata": {},
     "output_type": "execute_result"
    }
   ],
   "source": [
    "prime(4)"
   ]
  },
  {
   "cell_type": "markdown",
   "id": "c7c0c69f",
   "metadata": {},
   "source": [
    "#### Lambda expresssions are a way to quickly create what are knwon as anonymous functions basically creating a function that we will use one time and we don't necessarily need a name for it"
   ]
  },
  {
   "cell_type": "markdown",
   "id": "1e24dee6",
   "metadata": {},
   "source": [
    "### map()"
   ]
  },
  {
   "cell_type": "code",
   "execution_count": 27,
   "id": "1d49002c",
   "metadata": {},
   "outputs": [],
   "source": [
    "# Let us consider a function that takes one input and returns the square value\n",
    "\n",
    "def square(num):\n",
    "    return num**2"
   ]
  },
  {
   "cell_type": "markdown",
   "id": "03d6e91c",
   "metadata": {},
   "source": [
    "#### We can see that the sqaure function cannot take a list and return its sqaure unless we itterate over it.\n",
    "#### and in such case we use the map function for writing less code"
   ]
  },
  {
   "cell_type": "code",
   "execution_count": 31,
   "id": "9725bcaf",
   "metadata": {},
   "outputs": [
    {
     "name": "stdout",
     "output_type": "stream",
     "text": [
      "1\n",
      "4\n",
      "9\n",
      "16\n",
      "25\n"
     ]
    }
   ],
   "source": [
    "'''\n",
    "Syntax for map function\n",
    "\n",
    "map(function_name,list_name)\n",
    "\n",
    "'''\n",
    "\n",
    "my_nums=[1,2,3,4,5]\n",
    "for item in map(square,my_nums):    # As shown here, we are not calling the function here, rather passing it\n",
    "    print(item)"
   ]
  },
  {
   "cell_type": "code",
   "execution_count": 30,
   "id": "1a7d3f74",
   "metadata": {},
   "outputs": [
    {
     "data": {
      "text/plain": [
       "[1, 4, 9, 16, 25]"
      ]
     },
     "execution_count": 30,
     "metadata": {},
     "output_type": "execute_result"
    }
   ],
   "source": [
    "# and if we want to return a list of the square numbers, we can use the following code\n",
    "\n",
    "list(map(square,my_nums))"
   ]
  },
  {
   "cell_type": "markdown",
   "id": "8d05b548",
   "metadata": {},
   "source": [
    "### filter() <br>\n",
    "The filter function returns an iterator yielding those items of the iterable for which wehn you pass. It's syntax is similar to the map()"
   ]
  },
  {
   "cell_type": "code",
   "execution_count": 32,
   "id": "3fb2ed4c",
   "metadata": {},
   "outputs": [],
   "source": [
    "def check_even(num):\n",
    "    return num%2==0"
   ]
  },
  {
   "cell_type": "code",
   "execution_count": 33,
   "id": "ed5fc8f4",
   "metadata": {},
   "outputs": [
    {
     "data": {
      "text/plain": [
       "[2, 4, 6, 8, 10]"
      ]
     },
     "execution_count": 33,
     "metadata": {},
     "output_type": "execute_result"
    }
   ],
   "source": [
    "example_numbers=[1,2,3,4,5,6,7,8,9,10]\n",
    "list(filter(check_even,example_numbers))"
   ]
  },
  {
   "cell_type": "markdown",
   "id": "3d2ceeae",
   "metadata": {},
   "source": [
    "### the LEGB rule <br>\n",
    "LEGB rule is the rule and this is essentially the order that Python is going to look for variables <br>\n",
    "L: Local <br>\n",
    "E: Enclosing function locals <br>\n",
    "G: Global module\n",
    "B: Built in (Python)"
   ]
  },
  {
   "cell_type": "code",
   "execution_count": 34,
   "id": "21243d83",
   "metadata": {},
   "outputs": [],
   "source": [
    "## Write a function that checks whether a number is in a given range(inclusive of high and low)\n",
    "\n",
    "def fun (num,low,high):return low<=num<=high"
   ]
  },
  {
   "cell_type": "code",
   "execution_count": 35,
   "id": "b4ec2f3c",
   "metadata": {},
   "outputs": [
    {
     "data": {
      "text/plain": [
       "True"
      ]
     },
     "execution_count": 35,
     "metadata": {},
     "output_type": "execute_result"
    }
   ],
   "source": [
    "fun(5,2,7)"
   ]
  },
  {
   "cell_type": "code",
   "execution_count": 41,
   "id": "4d980f2d",
   "metadata": {},
   "outputs": [],
   "source": [
    "# Write a function that takes a list and returns a new list with unique elements of the first list\n",
    "\n",
    "def fun(string):\n",
    "    low=0\n",
    "    high=0\n",
    "    for x in string:\n",
    "        if x.islower():\n",
    "            low=low+1\n",
    "        else:\n",
    "            high=high+1\n",
    "    return [high,low]"
   ]
  },
  {
   "cell_type": "code",
   "execution_count": 42,
   "id": "2855e784",
   "metadata": {},
   "outputs": [
    {
     "data": {
      "text/plain": [
       "[2, 3]"
      ]
     },
     "execution_count": 42,
     "metadata": {},
     "output_type": "execute_result"
    }
   ],
   "source": [
    "fun('HEllo')"
   ]
  },
  {
   "cell_type": "code",
   "execution_count": 48,
   "id": "869f6fd2",
   "metadata": {},
   "outputs": [],
   "source": [
    "# Write a function that takes a list and returns a new list with unique elements of the first list\n",
    "\n",
    "def fun(given_list): return list(set(given_list))"
   ]
  },
  {
   "cell_type": "code",
   "execution_count": 50,
   "id": "7926b78a",
   "metadata": {},
   "outputs": [
    {
     "data": {
      "text/plain": [
       "[1, 2, 3, 4, 5]"
      ]
     },
     "execution_count": 50,
     "metadata": {},
     "output_type": "execute_result"
    }
   ],
   "source": [
    "fun([1,1,1,1,2,2,3,4,4,5])"
   ]
  },
  {
   "cell_type": "code",
   "execution_count": 51,
   "id": "0a62e02d",
   "metadata": {},
   "outputs": [],
   "source": [
    "# Write a function to multiply all the numbers in a list\n",
    "\n",
    "def mul(given_list):\n",
    "    result=1\n",
    "    for x in given_list:\n",
    "        result=result*x\n",
    "    return result"
   ]
  },
  {
   "cell_type": "code",
   "execution_count": 53,
   "id": "7254d415",
   "metadata": {},
   "outputs": [
    {
     "data": {
      "text/plain": [
       "-24"
      ]
     },
     "execution_count": 53,
     "metadata": {},
     "output_type": "execute_result"
    }
   ],
   "source": [
    "mul([1,2,3,-4])"
   ]
  },
  {
   "cell_type": "code",
   "execution_count": 55,
   "id": "c71f3c85",
   "metadata": {},
   "outputs": [],
   "source": [
    "# Write a function that check whether a word or phrase is a plindrome or not\n",
    "def fun(phrase):\n",
    "    i=0\n",
    "    j=len(phrase)-1\n",
    "    while i<=j:\n",
    "        if phrase[i]!=phrase[j]:\n",
    "            return False\n",
    "        else:\n",
    "            i=i+1\n",
    "            j=j-1\n",
    "    return True\n",
    "    "
   ]
  },
  {
   "cell_type": "code",
   "execution_count": 56,
   "id": "247bc9b0",
   "metadata": {},
   "outputs": [
    {
     "data": {
      "text/plain": [
       "True"
      ]
     },
     "execution_count": 56,
     "metadata": {},
     "output_type": "execute_result"
    }
   ],
   "source": [
    "fun('tenet')"
   ]
  },
  {
   "cell_type": "code",
   "execution_count": 57,
   "id": "aba93043",
   "metadata": {},
   "outputs": [
    {
     "data": {
      "text/plain": [
       "False"
      ]
     },
     "execution_count": 57,
     "metadata": {},
     "output_type": "execute_result"
    }
   ],
   "source": [
    "fun('tenets')"
   ]
  },
  {
   "cell_type": "code",
   "execution_count": 58,
   "id": "4ce4efe5",
   "metadata": {},
   "outputs": [],
   "source": [
    "# another way of checking whether a string is palindrome or not\n",
    "\n",
    "def fun(phrase):\n",
    "    reverse_phrase=phrase[::-1]\n",
    "    return reverse_phrase==phrase"
   ]
  },
  {
   "cell_type": "code",
   "execution_count": 61,
   "id": "6e45d102",
   "metadata": {},
   "outputs": [
    {
     "data": {
      "text/plain": [
       "False"
      ]
     },
     "execution_count": 61,
     "metadata": {},
     "output_type": "execute_result"
    }
   ],
   "source": [
    "fun('TeneTT')"
   ]
  },
  {
   "cell_type": "code",
   "execution_count": 62,
   "id": "d7908ff5",
   "metadata": {},
   "outputs": [
    {
     "data": {
      "text/plain": [
       "True"
      ]
     },
     "execution_count": 62,
     "metadata": {},
     "output_type": "execute_result"
    }
   ],
   "source": [
    "fun('TeneT')"
   ]
  },
  {
   "cell_type": "code",
   "execution_count": 94,
   "id": "6bc98ca6",
   "metadata": {},
   "outputs": [],
   "source": [
    "# Write a function to check whether a string is panagram or not\n",
    "\n",
    "\n",
    "def is_panagram(phrase):\n",
    "    import string\n",
    "    x=set(string.ascii_lowercase)\n",
    "    y=set(list(phrase))\n",
    "    y.remove(' ')\n",
    "    print(x)\n",
    "    return x==y"
   ]
  },
  {
   "cell_type": "code",
   "execution_count": 95,
   "id": "d312ca9b",
   "metadata": {},
   "outputs": [
    {
     "name": "stdout",
     "output_type": "stream",
     "text": [
      "{'b', 'k', 'n', 'i', 'z', 'a', 'p', 'f', 'e', 'j', 'u', 'r', 'h', 'd', 'm', 'w', 'g', 'y', 'q', 't', 'x', 'c', 'o', 's', 'l', 'v'}\n"
     ]
    },
    {
     "data": {
      "text/plain": [
       "True"
      ]
     },
     "execution_count": 95,
     "metadata": {},
     "output_type": "execute_result"
    }
   ],
   "source": [
    "is_panagram('the quick brown fox jumps over the lazy dog')"
   ]
  },
  {
   "cell_type": "code",
   "execution_count": null,
   "id": "fa2c5710",
   "metadata": {},
   "outputs": [],
   "source": []
  }
 ],
 "metadata": {
  "kernelspec": {
   "display_name": "Python 3 (ipykernel)",
   "language": "python",
   "name": "python3"
  },
  "language_info": {
   "codemirror_mode": {
    "name": "ipython",
    "version": 3
   },
   "file_extension": ".py",
   "mimetype": "text/x-python",
   "name": "python",
   "nbconvert_exporter": "python",
   "pygments_lexer": "ipython3",
   "version": "3.9.7"
  }
 },
 "nbformat": 4,
 "nbformat_minor": 5
}
