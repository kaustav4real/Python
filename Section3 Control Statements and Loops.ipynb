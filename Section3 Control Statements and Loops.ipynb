{
 "cells": [
  {
   "cell_type": "markdown",
   "id": "b3b6d23e",
   "metadata": {},
   "source": [
    "# Control Statements"
   ]
  },
  {
   "cell_type": "code",
   "execution_count": 3,
   "id": "04cf54e4",
   "metadata": {},
   "outputs": [
    {
     "name": "stdout",
     "output_type": "stream",
     "text": [
      "true\n"
     ]
    }
   ],
   "source": [
    "'''\n",
    "Syntax of an if statement\n",
    "if some_code:\n",
    "    write the code\n",
    "'''\n",
    "#example\n",
    "temp=100\n",
    "if temp<=100:\n",
    "    print('true')"
   ]
  },
  {
   "cell_type": "code",
   "execution_count": 4,
   "id": "81a6f909",
   "metadata": {},
   "outputs": [
    {
     "name": "stdout",
     "output_type": "stream",
     "text": [
      "Found the animal\n"
     ]
    }
   ],
   "source": [
    "#Synatx of an if else statement\n",
    "\n",
    "'''\n",
    "if some_code:\n",
    "    write code\n",
    "elif:\n",
    "    write code\n",
    "'''\n",
    "#example\n",
    "animal='Lion'\n",
    "if animal=='Lion':\n",
    "    print('Found the animal')\n",
    "else:\n",
    "    print('Animal is missing')"
   ]
  },
  {
   "cell_type": "code",
   "execution_count": 6,
   "id": "6baee4be",
   "metadata": {},
   "outputs": [
    {
     "name": "stdout",
     "output_type": "stream",
     "text": [
      "The number lies between 1 and 100\n"
     ]
    }
   ],
   "source": [
    "#Synatx of an if elif else statement\n",
    "\n",
    "'''\n",
    "if some_condition:\n",
    "    write code\n",
    "elif some_other_condition:\n",
    "    write code\n",
    "else:\n",
    "    write code\n",
    "'''\n",
    "#example\n",
    "num=9\n",
    "if num==0:\n",
    "    print('The number is 0')\n",
    "elif num==100:\n",
    "    print('The number is 100')\n",
    "else:\n",
    "    print('The number lies between 1 and 100')"
   ]
  },
  {
   "cell_type": "markdown",
   "id": "d2e4dcab",
   "metadata": {},
   "source": [
    "# Loops"
   ]
  },
  {
   "cell_type": "markdown",
   "id": "03e21a52",
   "metadata": {},
   "source": [
    "## For Loops"
   ]
  },
  {
   "cell_type": "code",
   "execution_count": 2,
   "id": "9216aadb",
   "metadata": {},
   "outputs": [
    {
     "name": "stdout",
     "output_type": "stream",
     "text": [
      "1\n",
      "2\n",
      "3\n",
      "4\n"
     ]
    }
   ],
   "source": [
    "#Synatx of a for Loop\n",
    "\n",
    "my_iterable_item=[1,2,3,4]\n",
    "for number in my_iterable_item:\n",
    "    print(number)"
   ]
  },
  {
   "cell_type": "code",
   "execution_count": 3,
   "id": "6a7df486",
   "metadata": {},
   "outputs": [
    {
     "name": "stdout",
     "output_type": "stream",
     "text": [
      "1 is an odd number.\n",
      "2 is an even number.\n",
      "3 is an odd number.\n",
      "4 is an even number.\n",
      "5 is an odd number.\n",
      "6 is an even number.\n",
      "7 is an odd number.\n",
      "8 is an even number.\n",
      "9 is an odd number.\n",
      "10 is an even number.\n"
     ]
    }
   ],
   "source": [
    "my_list=[1,2,3,4,5,6,7,8,9,10]\n",
    "for item in my_list:\n",
    "    if item%2==0:\n",
    "        print(f'{item} is an even number.')\n",
    "    else:\n",
    "        print(f'{item} is an odd number.')"
   ]
  },
  {
   "cell_type": "code",
   "execution_count": 4,
   "id": "a6275b15",
   "metadata": {},
   "outputs": [
    {
     "name": "stdout",
     "output_type": "stream",
     "text": [
      "55\n"
     ]
    }
   ],
   "source": [
    "#program to find the sum of number in 'my_list'\n",
    "sum_of_my_list=0\n",
    "\n",
    "for num in my_list:\n",
    "    sum_of_my_list+=num\n",
    "print(sum_of_my_list)\n"
   ]
  },
  {
   "cell_type": "code",
   "execution_count": 5,
   "id": "dd6b5124",
   "metadata": {},
   "outputs": [
    {
     "name": "stdout",
     "output_type": "stream",
     "text": [
      "H\n",
      "e\n",
      "l\n",
      "l\n",
      "o\n",
      " \n",
      "W\n",
      "o\n",
      "r\n",
      "l\n",
      "d\n"
     ]
    }
   ],
   "source": [
    "test='Hello World'\n",
    "for letter in test:\n",
    "    print(letter)"
   ]
  },
  {
   "cell_type": "code",
   "execution_count": 6,
   "id": "87802eac",
   "metadata": {},
   "outputs": [
    {
     "name": "stdout",
     "output_type": "stream",
     "text": [
      "H\n",
      "e\n",
      "l\n",
      "l\n",
      "o\n",
      " \n",
      "W\n",
      "o\n",
      "r\n",
      "l\n",
      "d\n"
     ]
    }
   ],
   "source": [
    "#The above code can also be written as\n",
    "for letter in 'Hello World':\n",
    "    print(letter)"
   ]
  },
  {
   "cell_type": "code",
   "execution_count": 7,
   "id": "8d6fa0a7",
   "metadata": {},
   "outputs": [
    {
     "name": "stdout",
     "output_type": "stream",
     "text": [
      "1\n",
      "2\n",
      "3\n"
     ]
    }
   ],
   "source": [
    "my_tuple=(1,2,3)\n",
    "for tuple_item in my_tuple:\n",
    "    print(tuple_item)"
   ]
  },
  {
   "cell_type": "code",
   "execution_count": 8,
   "id": "5b8f9890",
   "metadata": {},
   "outputs": [
    {
     "name": "stdout",
     "output_type": "stream",
     "text": [
      "(1, 2)\n",
      "(3, 4)\n",
      "(5, 6)\n",
      "(7, 8)\n"
     ]
    }
   ],
   "source": [
    "#The following code is an introduction to tuple unpacking\n",
    "my_list=[(1,2),(3,4),(5,6),(7,8)]\n",
    "for tuples in my_list:\n",
    "    print(tuples)"
   ]
  },
  {
   "cell_type": "code",
   "execution_count": 9,
   "id": "9bfac7c1",
   "metadata": {},
   "outputs": [
    {
     "name": "stdout",
     "output_type": "stream",
     "text": [
      "1\n",
      "2\n",
      "3\n",
      "4\n",
      "5\n",
      "6\n",
      "7\n",
      "8\n"
     ]
    }
   ],
   "source": [
    "#Tuple unpacking can also be approached by\n",
    "for (a,b) in my_list:\n",
    "    print(a)\n",
    "    print(b)"
   ]
  },
  {
   "cell_type": "markdown",
   "id": "8c0783be",
   "metadata": {},
   "source": [
    "### For loops in dictionary"
   ]
  },
  {
   "cell_type": "code",
   "execution_count": 11,
   "id": "a12c10f0",
   "metadata": {},
   "outputs": [
    {
     "name": "stdout",
     "output_type": "stream",
     "text": [
      "t1\n",
      "t2\n",
      "t3\n"
     ]
    }
   ],
   "source": [
    "my_dict={'t1':1,'t2':2,'t3':3}\n",
    "\n",
    "for key in my_dict:\n",
    "    print(key)"
   ]
  },
  {
   "cell_type": "code",
   "execution_count": 12,
   "id": "0ada8cdb",
   "metadata": {},
   "outputs": [
    {
     "name": "stdout",
     "output_type": "stream",
     "text": [
      "('t1', 1)\n",
      "('t2', 2)\n",
      "('t3', 3)\n"
     ]
    }
   ],
   "source": [
    "# we can see that only the keys printed in the above code\n",
    "\n",
    "#To get access of both the keys and values, we use the following code\n",
    "\n",
    "for key in my_dict.items():\n",
    "    print(key)"
   ]
  },
  {
   "cell_type": "code",
   "execution_count": 13,
   "id": "3bb2a3c0",
   "metadata": {},
   "outputs": [],
   "source": [
    "#The above approach is similat to tuple unpacking"
   ]
  },
  {
   "cell_type": "code",
   "execution_count": 14,
   "id": "bfdaee3c",
   "metadata": {},
   "outputs": [
    {
     "name": "stdout",
     "output_type": "stream",
     "text": [
      "1\n",
      "2\n",
      "3\n"
     ]
    }
   ],
   "source": [
    "for value in my_dict.values():\n",
    "    print(value)"
   ]
  },
  {
   "cell_type": "code",
   "execution_count": 15,
   "id": "215f1bc9",
   "metadata": {},
   "outputs": [
    {
     "name": "stdout",
     "output_type": "stream",
     "text": [
      "t1\n",
      "t2\n",
      "t3\n"
     ]
    }
   ],
   "source": [
    "for key in my_dict.keys():\n",
    "    print(key)"
   ]
  },
  {
   "cell_type": "code",
   "execution_count": 16,
   "id": "68b27b26",
   "metadata": {},
   "outputs": [
    {
     "name": "stdout",
     "output_type": "stream",
     "text": [
      "1\n",
      "2\n",
      "3\n"
     ]
    }
   ],
   "source": [
    "#Tuple unpacking\n",
    "\n",
    "for key,value in my_dict.items():\n",
    "    print(value)"
   ]
  },
  {
   "cell_type": "markdown",
   "id": "55830377",
   "metadata": {},
   "source": [
    "## While Loops"
   ]
  },
  {
   "cell_type": "code",
   "execution_count": 17,
   "id": "67eff469",
   "metadata": {},
   "outputs": [],
   "source": [
    "# Syntax of a while loop\n",
    "# while something_is_true:\n",
    "#    run_code"
   ]
  },
  {
   "cell_type": "markdown",
   "id": "8397a22c",
   "metadata": {},
   "source": [
    "A while loop can also be used with an else statement"
   ]
  },
  {
   "cell_type": "code",
   "execution_count": 18,
   "id": "4b845385",
   "metadata": {},
   "outputs": [],
   "source": [
    "#Syantx is\n",
    "\n",
    "# while some_condition_is_true:\n",
    "#     run_code\n",
    "#else:\n",
    "#     run_different_code\n",
    "    "
   ]
  },
  {
   "cell_type": "code",
   "execution_count": 19,
   "id": "e41c8d6f",
   "metadata": {},
   "outputs": [
    {
     "name": "stdout",
     "output_type": "stream",
     "text": [
      "The value of x is 10\n",
      "The value of x is 9\n",
      "The value of x is 8\n",
      "The value of x is 7\n",
      "The value of x is 6\n",
      "The value of x is 5\n",
      "The value of x is 4\n",
      "The value of x is 3\n",
      "The value of x is 2\n",
      "The value of x is 1\n",
      "The value of x is 0\n"
     ]
    }
   ],
   "source": [
    "#Example\n",
    "x=10\n",
    "while x>=0:\n",
    "    print(f'The value of x is {x}')\n",
    "    x=x-1"
   ]
  },
  {
   "cell_type": "code",
   "execution_count": 20,
   "id": "d8b45dab",
   "metadata": {},
   "outputs": [
    {
     "data": {
      "text/plain": [
       "-1"
      ]
     },
     "execution_count": 20,
     "metadata": {},
     "output_type": "execute_result"
    }
   ],
   "source": [
    "x"
   ]
  },
  {
   "cell_type": "code",
   "execution_count": 21,
   "id": "e222a246",
   "metadata": {},
   "outputs": [
    {
     "name": "stdout",
     "output_type": "stream",
     "text": [
      "X is less than 10\n"
     ]
    }
   ],
   "source": [
    "x=1\n",
    "while x>10:\n",
    "    print('X is greater than 10')\n",
    "else:\n",
    "    print('X is less than 10')"
   ]
  },
  {
   "cell_type": "markdown",
   "id": "8a316474",
   "metadata": {},
   "source": [
    "### break, continue, pass <br>\n",
    "break: Breaks out of the current closest enclosing loop <br>\n",
    "continue:Goes to the top of the current enclosing loop <br>\n",
    "pass: Does nothing at all\n"
   ]
  },
  {
   "cell_type": "code",
   "execution_count": 23,
   "id": "304b8d91",
   "metadata": {},
   "outputs": [
    {
     "ename": "IndentationError",
     "evalue": "expected an indented block (Temp/ipykernel_8868/3721402727.py, line 4)",
     "output_type": "error",
     "traceback": [
      "\u001b[1;36m  File \u001b[1;32m\"C:\\Users\\Lenovo\\AppData\\Local\\Temp/ipykernel_8868/3721402727.py\"\u001b[1;36m, line \u001b[1;32m4\u001b[0m\n\u001b[1;33m    #Run Code\u001b[0m\n\u001b[1;37m             ^\u001b[0m\n\u001b[1;31mIndentationError\u001b[0m\u001b[1;31m:\u001b[0m expected an indented block\n"
     ]
    }
   ],
   "source": [
    "x=[1,2,3]\n",
    "\n",
    "for item in x:\n",
    "    #Run Code"
   ]
  },
  {
   "cell_type": "code",
   "execution_count": 25,
   "id": "607a2947",
   "metadata": {},
   "outputs": [],
   "source": [
    "#For programmers...they would sometimes use the keyword pass to use it as a placeholder to avoid a syntax error\n",
    "x=[1,2,3,4]\n",
    "for item in x:\n",
    "    pass"
   ]
  },
  {
   "cell_type": "code",
   "execution_count": 29,
   "id": "0d576251",
   "metadata": {},
   "outputs": [
    {
     "name": "stdout",
     "output_type": "stream",
     "text": [
      "T\n",
      "h\n",
      "s\n",
      " \n",
      "s\n",
      " \n",
      "a\n",
      " \n",
      "s\n",
      "t\n",
      "r\n",
      "n\n",
      "g\n"
     ]
    }
   ],
   "source": [
    "test='This is a string'\n",
    "for letter in test:\n",
    "    if letter=='i':\n",
    "        continue\n",
    "    print(letter)"
   ]
  },
  {
   "cell_type": "code",
   "execution_count": 30,
   "id": "c13ef0ae",
   "metadata": {},
   "outputs": [
    {
     "name": "stdout",
     "output_type": "stream",
     "text": [
      "H\n",
      "e\n",
      "l\n",
      "l\n"
     ]
    }
   ],
   "source": [
    "test='Hello World'\n",
    "for letter in test:\n",
    "    if letter=='o':\n",
    "        break\n",
    "    print(letter)"
   ]
  },
  {
   "cell_type": "markdown",
   "id": "23992f36",
   "metadata": {},
   "source": [
    "### Some Important Operators"
   ]
  },
  {
   "cell_type": "markdown",
   "id": "c928cb6c",
   "metadata": {},
   "source": [
    "**1. range()**"
   ]
  },
  {
   "cell_type": "code",
   "execution_count": 31,
   "id": "1a853590",
   "metadata": {},
   "outputs": [
    {
     "name": "stdout",
     "output_type": "stream",
     "text": [
      "0\n",
      "1\n",
      "2\n",
      "3\n",
      "4\n",
      "5\n",
      "6\n",
      "7\n",
      "8\n",
      "9\n"
     ]
    }
   ],
   "source": [
    "my_list=[1,2,3]\n",
    "for num in range(0,10):\n",
    "    print(num)"
   ]
  },
  {
   "cell_type": "code",
   "execution_count": 32,
   "id": "ac02dd1d",
   "metadata": {},
   "outputs": [
    {
     "name": "stdout",
     "output_type": "stream",
     "text": [
      "3\n",
      "4\n",
      "5\n",
      "6\n",
      "7\n",
      "8\n",
      "9\n"
     ]
    }
   ],
   "source": [
    "for num in range (3,10):\n",
    "    print(num)"
   ]
  },
  {
   "cell_type": "code",
   "execution_count": 33,
   "id": "892dbeb7",
   "metadata": {},
   "outputs": [
    {
     "name": "stdout",
     "output_type": "stream",
     "text": [
      "0\n",
      "2\n",
      "4\n",
      "6\n",
      "8\n"
     ]
    }
   ],
   "source": [
    "for num in range(0,10,2):\n",
    "    print(num)"
   ]
  },
  {
   "cell_type": "markdown",
   "id": "53817622",
   "metadata": {},
   "source": [
    "From the above three executions of code, we can see that the **range()** has a (start,end,skip) approach. <br>\n",
    "for x in range(a,b,c): <br>\n",
    "The above lines of code means that a<= x< b with x increasing by 2 starting fom a."
   ]
  },
  {
   "cell_type": "code",
   "execution_count": 34,
   "id": "284d3c34",
   "metadata": {},
   "outputs": [
    {
     "data": {
      "text/plain": [
       "[0, 2, 4, 6, 8]"
      ]
     },
     "execution_count": 34,
     "metadata": {},
     "output_type": "execute_result"
    }
   ],
   "source": [
    "list(range(0,10,2))"
   ]
  },
  {
   "cell_type": "markdown",
   "id": "422626a4",
   "metadata": {},
   "source": [
    "**2. enumerate()**"
   ]
  },
  {
   "cell_type": "code",
   "execution_count": 35,
   "id": "c64da794",
   "metadata": {},
   "outputs": [
    {
     "name": "stdout",
     "output_type": "stream",
     "text": [
      "(0, 'l')\n",
      "(1, 'e')\n",
      "(2, 't')\n",
      "(3, 't')\n",
      "(4, 'e')\n",
      "(5, 'r')\n",
      "(6, 's')\n"
     ]
    }
   ],
   "source": [
    "for item in enumerate('letters'):\n",
    "    print(item)"
   ]
  },
  {
   "cell_type": "markdown",
   "id": "a4815db4",
   "metadata": {},
   "source": [
    "We can see that enumerate function returns tuple. So we can apply tuple unpacking in here too."
   ]
  },
  {
   "cell_type": "code",
   "execution_count": 36,
   "id": "d06b5358",
   "metadata": {},
   "outputs": [
    {
     "name": "stdout",
     "output_type": "stream",
     "text": [
      "0\n",
      "l\n",
      "\n",
      "\n",
      "1\n",
      "e\n",
      "\n",
      "\n",
      "2\n",
      "t\n",
      "\n",
      "\n",
      "3\n",
      "t\n",
      "\n",
      "\n",
      "4\n",
      "e\n",
      "\n",
      "\n",
      "5\n",
      "r\n",
      "\n",
      "\n",
      "6\n",
      "s\n",
      "\n",
      "\n"
     ]
    }
   ],
   "source": [
    "for index,value in enumerate('letters'):\n",
    "    print(index)\n",
    "    print(value)\n",
    "    print('\\n')"
   ]
  },
  {
   "cell_type": "markdown",
   "id": "b5c821de",
   "metadata": {},
   "source": [
    "**3. zip()**"
   ]
  },
  {
   "cell_type": "code",
   "execution_count": 37,
   "id": "8910e6ea",
   "metadata": {},
   "outputs": [],
   "source": [
    "#Let's see the zip function with an example"
   ]
  },
  {
   "cell_type": "code",
   "execution_count": 38,
   "id": "c82b4485",
   "metadata": {},
   "outputs": [
    {
     "data": {
      "text/plain": [
       "<zip at 0x19e33bed200>"
      ]
     },
     "execution_count": 38,
     "metadata": {},
     "output_type": "execute_result"
    }
   ],
   "source": [
    "list1=['1','2','3']\n",
    "list2=['a','b','c']\n",
    "\n",
    "zipped_list=zip(list1,list2)\n",
    "zipped_list"
   ]
  },
  {
   "cell_type": "code",
   "execution_count": 40,
   "id": "1fb532c2",
   "metadata": {},
   "outputs": [
    {
     "name": "stdout",
     "output_type": "stream",
     "text": [
      "('1', 'a')\n",
      "('2', 'b')\n",
      "('3', 'c')\n"
     ]
    }
   ],
   "source": [
    "#To look at the zipped list, we have to itterate over it\n",
    "\n",
    "for x in zipped_list:\n",
    "    print(x)"
   ]
  },
  {
   "cell_type": "markdown",
   "id": "8307093e",
   "metadata": {},
   "source": [
    "From the above example, we can see the **zip()** returns a tuple. <br>\n",
    "We can use multiple lists."
   ]
  },
  {
   "cell_type": "code",
   "execution_count": 42,
   "id": "8cf86de8",
   "metadata": {},
   "outputs": [
    {
     "data": {
      "text/plain": [
       "[(1, 'a', '5'), (2, 'b', '6'), (3, 'c', '7')]"
      ]
     },
     "execution_count": 42,
     "metadata": {},
     "output_type": "execute_result"
    }
   ],
   "source": [
    "list(zip([1,2,3,4],['a','b','c'],['5','6','7']))"
   ]
  },
  {
   "cell_type": "markdown",
   "id": "d2b7a8c7",
   "metadata": {},
   "source": [
    "**in** operator <br>\n",
    "We can check if an object is in a list"
   ]
  },
  {
   "cell_type": "code",
   "execution_count": 43,
   "id": "72d9d774",
   "metadata": {},
   "outputs": [
    {
     "data": {
      "text/plain": [
       "True"
      ]
     },
     "execution_count": 43,
     "metadata": {},
     "output_type": "execute_result"
    }
   ],
   "source": [
    "'tiger' in ['elephant','lion','tiger']"
   ]
  },
  {
   "cell_type": "code",
   "execution_count": 44,
   "id": "c2bfaaf4",
   "metadata": {},
   "outputs": [
    {
     "data": {
      "text/plain": [
       "False"
      ]
     },
     "execution_count": 44,
     "metadata": {},
     "output_type": "execute_result"
    }
   ],
   "source": [
    "1 in [2,3,4]"
   ]
  },
  {
   "cell_type": "code",
   "execution_count": 45,
   "id": "bf9c91e6",
   "metadata": {},
   "outputs": [
    {
     "data": {
      "text/plain": [
       "True"
      ]
     },
     "execution_count": 45,
     "metadata": {},
     "output_type": "execute_result"
    }
   ],
   "source": [
    "'a' in 'What a beautiful World'"
   ]
  },
  {
   "cell_type": "code",
   "execution_count": 46,
   "id": "337bd00e",
   "metadata": {},
   "outputs": [],
   "source": [
    "d={'key':1234}"
   ]
  },
  {
   "cell_type": "code",
   "execution_count": 47,
   "id": "49d45f9f",
   "metadata": {},
   "outputs": [
    {
     "data": {
      "text/plain": [
       "True"
      ]
     },
     "execution_count": 47,
     "metadata": {},
     "output_type": "execute_result"
    }
   ],
   "source": [
    "1234 in d.values()"
   ]
  },
  {
   "cell_type": "code",
   "execution_count": 48,
   "id": "59ad31c8",
   "metadata": {},
   "outputs": [
    {
     "data": {
      "text/plain": [
       "True"
      ]
     },
     "execution_count": 48,
     "metadata": {},
     "output_type": "execute_result"
    }
   ],
   "source": [
    "'key' in d.keys()"
   ]
  },
  {
   "cell_type": "code",
   "execution_count": 49,
   "id": "5f13ec5c",
   "metadata": {},
   "outputs": [
    {
     "data": {
      "text/plain": [
       "False"
      ]
     },
     "execution_count": 49,
     "metadata": {},
     "output_type": "execute_result"
    }
   ],
   "source": [
    "'key' in d.values()"
   ]
  },
  {
   "cell_type": "markdown",
   "id": "e52c1871",
   "metadata": {},
   "source": [
    "**min** and **max** are built in keywords in python. So don't take them as variables unlike in other languages"
   ]
  },
  {
   "cell_type": "code",
   "execution_count": 50,
   "id": "c91bff3a",
   "metadata": {},
   "outputs": [],
   "source": [
    "my_list=[100,101,99]"
   ]
  },
  {
   "cell_type": "code",
   "execution_count": 51,
   "id": "4e6b3fbb",
   "metadata": {},
   "outputs": [
    {
     "data": {
      "text/plain": [
       "99"
      ]
     },
     "execution_count": 51,
     "metadata": {},
     "output_type": "execute_result"
    }
   ],
   "source": [
    "min(my_list)"
   ]
  },
  {
   "cell_type": "code",
   "execution_count": 52,
   "id": "eb5cc7ab",
   "metadata": {},
   "outputs": [
    {
     "data": {
      "text/plain": [
       "101"
      ]
     },
     "execution_count": 52,
     "metadata": {},
     "output_type": "execute_result"
    }
   ],
   "source": [
    "max(my_list)"
   ]
  },
  {
   "cell_type": "markdown",
   "id": "38ffe193",
   "metadata": {},
   "source": [
    "**random** <br>\n",
    "random is a built in library in Python"
   ]
  },
  {
   "cell_type": "code",
   "execution_count": 53,
   "id": "8abd5c03",
   "metadata": {},
   "outputs": [],
   "source": [
    "# following is an example of importing a function from a library\n",
    "\n",
    "from random import shuffle"
   ]
  },
  {
   "cell_type": "code",
   "execution_count": 54,
   "id": "8d09deb6",
   "metadata": {},
   "outputs": [],
   "source": [
    "mylist=[1,2,3,4,5]"
   ]
  },
  {
   "cell_type": "code",
   "execution_count": 58,
   "id": "15a1a427",
   "metadata": {},
   "outputs": [],
   "source": [
    "shuffled_list=shuffle(mylist)"
   ]
  },
  {
   "cell_type": "code",
   "execution_count": 59,
   "id": "332b258c",
   "metadata": {},
   "outputs": [
    {
     "data": {
      "text/plain": [
       "[4, 1, 2, 3, 5]"
      ]
     },
     "execution_count": 59,
     "metadata": {},
     "output_type": "execute_result"
    }
   ],
   "source": [
    "mylist"
   ]
  },
  {
   "cell_type": "markdown",
   "id": "f9f786fe",
   "metadata": {},
   "source": [
    "**Note** The shuffle function does not return anything"
   ]
  },
  {
   "cell_type": "code",
   "execution_count": 60,
   "id": "8192d59f",
   "metadata": {},
   "outputs": [
    {
     "data": {
      "text/plain": [
       "method"
      ]
     },
     "execution_count": 60,
     "metadata": {},
     "output_type": "execute_result"
    }
   ],
   "source": [
    "type(shuffle)"
   ]
  },
  {
   "cell_type": "markdown",
   "id": "7cf29567",
   "metadata": {},
   "source": [
    "We can also generate random integers in Python using the **randint** function from the random library"
   ]
  },
  {
   "cell_type": "code",
   "execution_count": 62,
   "id": "984421c0",
   "metadata": {},
   "outputs": [],
   "source": [
    "from random import randint"
   ]
  },
  {
   "cell_type": "code",
   "execution_count": 63,
   "id": "3f55548f",
   "metadata": {},
   "outputs": [
    {
     "data": {
      "text/plain": [
       "43"
      ]
     },
     "execution_count": 63,
     "metadata": {},
     "output_type": "execute_result"
    }
   ],
   "source": [
    "randint(0,100)"
   ]
  },
  {
   "cell_type": "code",
   "execution_count": 64,
   "id": "b341a352",
   "metadata": {},
   "outputs": [
    {
     "data": {
      "text/plain": [
       "100"
      ]
     },
     "execution_count": 64,
     "metadata": {},
     "output_type": "execute_result"
    }
   ],
   "source": [
    "randint(99,100)"
   ]
  },
  {
   "cell_type": "markdown",
   "id": "5ee4a505",
   "metadata": {},
   "source": [
    "We can see that **randint** takes two parameters. <br>\n",
    "The first parameter takes a lower bound integer and the second parameter takes an upper bound parameter"
   ]
  },
  {
   "cell_type": "markdown",
   "id": "9aad67bb",
   "metadata": {},
   "source": [
    "### Taking user inputs with the input keyword"
   ]
  },
  {
   "cell_type": "code",
   "execution_count": 66,
   "id": "859a3de7",
   "metadata": {},
   "outputs": [
    {
     "name": "stdout",
     "output_type": "stream",
     "text": [
      "Enter your name: Kaustav\n"
     ]
    }
   ],
   "source": [
    "name=input('Enter your name: ')"
   ]
  },
  {
   "cell_type": "markdown",
   "id": "a6278ab7",
   "metadata": {},
   "source": [
    "It is worth mentioning that whatever value we enter in a user input, it is always treated as a string."
   ]
  },
  {
   "cell_type": "code",
   "execution_count": 67,
   "id": "25db38df",
   "metadata": {},
   "outputs": [
    {
     "name": "stdout",
     "output_type": "stream",
     "text": [
      "Enter a number: 4\n"
     ]
    }
   ],
   "source": [
    "num=input('Enter a number: ')"
   ]
  },
  {
   "cell_type": "code",
   "execution_count": 68,
   "id": "f919e632",
   "metadata": {},
   "outputs": [
    {
     "data": {
      "text/plain": [
       "str"
      ]
     },
     "execution_count": 68,
     "metadata": {},
     "output_type": "execute_result"
    }
   ],
   "source": [
    "type(num)"
   ]
  },
  {
   "cell_type": "code",
   "execution_count": 70,
   "id": "2a215d98",
   "metadata": {},
   "outputs": [
    {
     "name": "stdout",
     "output_type": "stream",
     "text": [
      "Enter a number: 3\n"
     ]
    }
   ],
   "source": [
    "# To get the respective kind of types we want, we need to typecaste it\n",
    "\n",
    "# For exammple\n",
    "\n",
    "num=int(input('Enter a number: '))"
   ]
  },
  {
   "cell_type": "code",
   "execution_count": 71,
   "id": "52b4e6fc",
   "metadata": {},
   "outputs": [
    {
     "data": {
      "text/plain": [
       "int"
      ]
     },
     "execution_count": 71,
     "metadata": {},
     "output_type": "execute_result"
    }
   ],
   "source": [
    "type(num)"
   ]
  },
  {
   "cell_type": "code",
   "execution_count": 72,
   "id": "efcfdfab",
   "metadata": {},
   "outputs": [
    {
     "name": "stdout",
     "output_type": "stream",
     "text": [
      "Enter a floating point number.3.7\n"
     ]
    },
    {
     "data": {
      "text/plain": [
       "float"
      ]
     },
     "execution_count": 72,
     "metadata": {},
     "output_type": "execute_result"
    }
   ],
   "source": [
    "# Another example\n",
    "\n",
    "num=float(input('Enter a floating point number.'))\n",
    "type(num)"
   ]
  },
  {
   "cell_type": "markdown",
   "id": "3e5ac8d7",
   "metadata": {},
   "source": [
    "## List Comprehensions"
   ]
  },
  {
   "cell_type": "code",
   "execution_count": 73,
   "id": "96604775",
   "metadata": {},
   "outputs": [],
   "source": [
    "mylist=[]\n",
    "for letter in 'Hello':\n",
    "    mylist.append(letter)"
   ]
  },
  {
   "cell_type": "code",
   "execution_count": 74,
   "id": "4ec08d74",
   "metadata": {},
   "outputs": [
    {
     "data": {
      "text/plain": [
       "['H', 'e', 'l', 'l', 'o']"
      ]
     },
     "execution_count": 74,
     "metadata": {},
     "output_type": "execute_result"
    }
   ],
   "source": [
    "mylist"
   ]
  },
  {
   "cell_type": "code",
   "execution_count": 75,
   "id": "b684a81e",
   "metadata": {},
   "outputs": [],
   "source": [
    "#  We can also do this with list comprehensions in a single line of code. \n",
    "# Let's break this step by step\n",
    "new_list=[letter for letter in 'Hello']"
   ]
  },
  {
   "cell_type": "code",
   "execution_count": 76,
   "id": "370d90b8",
   "metadata": {},
   "outputs": [
    {
     "data": {
      "text/plain": [
       "['H', 'e', 'l', 'l', 'o']"
      ]
     },
     "execution_count": 76,
     "metadata": {},
     "output_type": "execute_result"
    }
   ],
   "source": [
    "new_list"
   ]
  },
  {
   "cell_type": "code",
   "execution_count": 77,
   "id": "2da3c7bc",
   "metadata": {},
   "outputs": [
    {
     "data": {
      "text/plain": [
       "[0, 1, 2, 3, 4, 5, 6, 7, 8, 9, 10]"
      ]
     },
     "execution_count": 77,
     "metadata": {},
     "output_type": "execute_result"
    }
   ],
   "source": [
    "new_list2=[num for num in range(0,11)]\n",
    "new_list2"
   ]
  },
  {
   "cell_type": "code",
   "execution_count": 78,
   "id": "117f6a51",
   "metadata": {},
   "outputs": [
    {
     "data": {
      "text/plain": [
       "[0, 1, 4, 9, 16, 25, 36, 49, 64, 81, 100]"
      ]
     },
     "execution_count": 78,
     "metadata": {},
     "output_type": "execute_result"
    }
   ],
   "source": [
    "new_list3=[num**2 for num in range(0,11)]\n",
    "new_list3"
   ]
  },
  {
   "cell_type": "markdown",
   "id": "a4536c1e",
   "metadata": {},
   "source": [
    "Code Readability is very important. So try not to use list comprehensions too much as you might not be able to read your own code after a month."
   ]
  },
  {
   "cell_type": "code",
   "execution_count": null,
   "id": "7d887256",
   "metadata": {},
   "outputs": [],
   "source": []
  }
 ],
 "metadata": {
  "kernelspec": {
   "display_name": "Python 3 (ipykernel)",
   "language": "python",
   "name": "python3"
  },
  "language_info": {
   "codemirror_mode": {
    "name": "ipython",
    "version": 3
   },
   "file_extension": ".py",
   "mimetype": "text/x-python",
   "name": "python",
   "nbconvert_exporter": "python",
   "pygments_lexer": "ipython3",
   "version": "3.9.7"
  }
 },
 "nbformat": 4,
 "nbformat_minor": 5
}
