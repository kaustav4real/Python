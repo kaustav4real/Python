{
 "cells": [
  {
   "cell_type": "markdown",
   "id": "4ae619f9",
   "metadata": {},
   "source": [
    "# Numbers\n",
    "**Python can be used just like a normal calculator**"
   ]
  },
  {
   "cell_type": "code",
   "execution_count": 1,
   "id": "41077f1b",
   "metadata": {},
   "outputs": [
    {
     "data": {
      "text/plain": [
       "5"
      ]
     },
     "execution_count": 1,
     "metadata": {},
     "output_type": "execute_result"
    }
   ],
   "source": [
    "3+2"
   ]
  },
  {
   "cell_type": "code",
   "execution_count": 2,
   "id": "b9aa777c",
   "metadata": {},
   "outputs": [
    {
     "data": {
      "text/plain": [
       "1"
      ]
     },
     "execution_count": 2,
     "metadata": {},
     "output_type": "execute_result"
    }
   ],
   "source": [
    "3-2"
   ]
  },
  {
   "cell_type": "code",
   "execution_count": 3,
   "id": "2e740da9",
   "metadata": {},
   "outputs": [
    {
     "data": {
      "text/plain": [
       "6"
      ]
     },
     "execution_count": 3,
     "metadata": {},
     "output_type": "execute_result"
    }
   ],
   "source": [
    "3*2"
   ]
  },
  {
   "cell_type": "code",
   "execution_count": 4,
   "id": "7afd3298",
   "metadata": {},
   "outputs": [
    {
     "data": {
      "text/plain": [
       "1.5"
      ]
     },
     "execution_count": 4,
     "metadata": {},
     "output_type": "execute_result"
    }
   ],
   "source": [
    "3/2"
   ]
  },
  {
   "cell_type": "markdown",
   "id": "e78f54db",
   "metadata": {},
   "source": [
    "**MODULO OR 'MOD' OPERATOR**"
   ]
  },
  {
   "cell_type": "markdown",
   "id": "06e0546a",
   "metadata": {},
   "source": [
    "It gives us the remainder."
   ]
  },
  {
   "cell_type": "code",
   "execution_count": 5,
   "id": "96fdec67",
   "metadata": {},
   "outputs": [
    {
     "data": {
      "text/plain": [
       "0"
      ]
     },
     "execution_count": 5,
     "metadata": {},
     "output_type": "execute_result"
    }
   ],
   "source": [
    "50%10"
   ]
  },
  {
   "cell_type": "code",
   "execution_count": 6,
   "id": "14b2da48",
   "metadata": {},
   "outputs": [
    {
     "data": {
      "text/plain": [
       "1"
      ]
     },
     "execution_count": 6,
     "metadata": {},
     "output_type": "execute_result"
    }
   ],
   "source": [
    "50%7"
   ]
  },
  {
   "cell_type": "markdown",
   "id": "3f496878",
   "metadata": {},
   "source": [
    "**Power**"
   ]
  },
  {
   "cell_type": "code",
   "execution_count": 7,
   "id": "4d40afdc",
   "metadata": {},
   "outputs": [
    {
     "data": {
      "text/plain": [
       "8"
      ]
     },
     "execution_count": 7,
     "metadata": {},
     "output_type": "execute_result"
    }
   ],
   "source": [
    "2 **3 #read as 2 to the power 2"
   ]
  },
  {
   "cell_type": "markdown",
   "id": "00bf7f71",
   "metadata": {},
   "source": [
    "**Variable Assignments**\n",
    "Python is a dynamically typed language. This means that the Python interpreter does type checking only as code runs, and the type of a variable is allowed to change over its lifetime."
   ]
  },
  {
   "cell_type": "code",
   "execution_count": 8,
   "id": "bd5fc05b",
   "metadata": {},
   "outputs": [],
   "source": [
    "my_income=1000  \n",
    "tax_rate=0.1\n",
    "my_taxes=my_income*tax_rate"
   ]
  },
  {
   "cell_type": "code",
   "execution_count": 9,
   "id": "524cc198",
   "metadata": {},
   "outputs": [
    {
     "data": {
      "text/plain": [
       "100.0"
      ]
     },
     "execution_count": 9,
     "metadata": {},
     "output_type": "execute_result"
    }
   ],
   "source": [
    "my_taxes"
   ]
  },
  {
   "cell_type": "markdown",
   "id": "4a2adb99",
   "metadata": {},
   "source": [
    "**type()**:The type() function returns the type of the specified object."
   ]
  },
  {
   "cell_type": "code",
   "execution_count": 10,
   "id": "c949cfb1",
   "metadata": {},
   "outputs": [
    {
     "data": {
      "text/plain": [
       "float"
      ]
     },
     "execution_count": 10,
     "metadata": {},
     "output_type": "execute_result"
    }
   ],
   "source": [
    "type(my_taxes)"
   ]
  },
  {
   "cell_type": "code",
   "execution_count": 11,
   "id": "d517965e",
   "metadata": {},
   "outputs": [
    {
     "data": {
      "text/plain": [
       "int"
      ]
     },
     "execution_count": 11,
     "metadata": {},
     "output_type": "execute_result"
    }
   ],
   "source": [
    "type(my_income)"
   ]
  },
  {
   "cell_type": "markdown",
   "id": "eb81378f",
   "metadata": {},
   "source": [
    "# Strings\n",
    "Strings are sequences of characters, using the syntax of either single quotes or double quotes.\n",
    "eg: 'hello', \"hello\",\"I don't do that\" <br>\n",
    "Similar to other programming languages, indices start from 0.<br>\n",
    "Character:    h  e  l  l  o<br>\n",
    "Index:        0  1  2  3  4<br>\n",
    "ReverseIndex: 0 -1 -2 -3 -4<br>\n",
    "<br>\n",
    "**slice()**\n",
    "It has the following syntax\n",
    "<br>\n",
    "[start:stop:step]\n",
    "<br>\n",
    "\n",
    "<br>\n",
    "b = \"Hello, World!\"\n",
    "<br>\n",
    "**Get the characters from position 2 to position 5 (not included):\n",
    "<br>\n",
    "print(b[2:5])\n",
    "<br> Output: llo"
   ]
  },
  {
   "cell_type": "code",
   "execution_count": 14,
   "id": "bf876509",
   "metadata": {},
   "outputs": [
    {
     "name": "stdout",
     "output_type": "stream",
     "text": [
      "This is a\n"
     ]
    }
   ],
   "source": [
    "a='This is a string.'\n",
    "print(a[0:9])\n"
   ]
  },
  {
   "cell_type": "markdown",
   "id": "1f1eab10",
   "metadata": {},
   "source": [
    "**len()** <br>\n",
    "The len() function returns the number of items in an object.\n",
    "When the object is a string, the len() function returns the number of characters in the string.\n",
    "\n"
   ]
  },
  {
   "cell_type": "code",
   "execution_count": 16,
   "id": "8db964af",
   "metadata": {},
   "outputs": [
    {
     "data": {
      "text/plain": [
       "11"
      ]
     },
     "execution_count": 16,
     "metadata": {},
     "output_type": "execute_result"
    }
   ],
   "source": [
    "len(\"hello world\")"
   ]
  },
  {
   "cell_type": "code",
   "execution_count": 17,
   "id": "2fefd6fa",
   "metadata": {},
   "outputs": [],
   "source": [
    "mystring=\"abcdefghijk\""
   ]
  },
  {
   "cell_type": "markdown",
   "id": "89e8e5f8",
   "metadata": {},
   "source": [
    "The goal is to get hold of 'def' in the string 'mystring'.\n",
    "<br>\n",
    "For this, we will use slice()"
   ]
  },
  {
   "cell_type": "code",
   "execution_count": 18,
   "id": "a6fe945c",
   "metadata": {},
   "outputs": [
    {
     "data": {
      "text/plain": [
       "'def'"
      ]
     },
     "execution_count": 18,
     "metadata": {},
     "output_type": "execute_result"
    }
   ],
   "source": [
    "mystring[3:6]"
   ]
  },
  {
   "cell_type": "code",
   "execution_count": 19,
   "id": "f30980c2",
   "metadata": {},
   "outputs": [
    {
     "data": {
      "text/plain": [
       "'kjihgfedcba'"
      ]
     },
     "execution_count": 19,
     "metadata": {},
     "output_type": "execute_result"
    }
   ],
   "source": [
    "mystring[::-1]"
   ]
  },
  {
   "cell_type": "markdown",
   "id": "4ec5637f",
   "metadata": {},
   "source": [
    "The above is a online trick in pythin to reverse a string instead of a for loop.<br>\n",
    "It means that from the beginning to the end, take a step size of -1."
   ]
  },
  {
   "cell_type": "markdown",
   "id": "8f77f729",
   "metadata": {},
   "source": [
    "**Strings FAQ**\n",
    "<br>\n",
    "1. Are strings mutable?\n",
    "<br>\n",
    "Strings are not mutable! (meaning you can't use indexing to change individual elements of a string)\n",
    "<br>\n",
    "2. How do you create comments in my code?\n",
    "<br>\n",
    "You can use the hashtag # to create comments in your code ,or you can add a multiline string (triple quotes) in your code, and place your comment inside it"
   ]
  },
  {
   "cell_type": "code",
   "execution_count": 21,
   "id": "bf3d1aba",
   "metadata": {},
   "outputs": [
    {
     "data": {
      "text/plain": [
       "'kkkkkkkkkk'"
      ]
     },
     "execution_count": 21,
     "metadata": {},
     "output_type": "execute_result"
    }
   ],
   "source": [
    "#String Multiplication\n",
    "'k'*10"
   ]
  },
  {
   "cell_type": "code",
   "execution_count": 22,
   "id": "6857e626",
   "metadata": {},
   "outputs": [],
   "source": [
    "#String Concatenation\n",
    "a='Hello '\n",
    "b='World'\n",
    "c=a+b"
   ]
  },
  {
   "cell_type": "code",
   "execution_count": 23,
   "id": "7a5f6b8e",
   "metadata": {},
   "outputs": [
    {
     "data": {
      "text/plain": [
       "'Hello World'"
      ]
     },
     "execution_count": 23,
     "metadata": {},
     "output_type": "execute_result"
    }
   ],
   "source": [
    "c"
   ]
  },
  {
   "cell_type": "markdown",
   "id": "5fce2aaa",
   "metadata": {},
   "source": [
    "**split()**\n",
    "<br>\n",
    "The split() method splits a string into a list.\n",
    "<br>\n",
    "You can specify the separator, default separator is any whitespace."
   ]
  },
  {
   "cell_type": "code",
   "execution_count": 24,
   "id": "f2b7a02d",
   "metadata": {},
   "outputs": [
    {
     "data": {
      "text/plain": [
       "['This', 'is', 'a', 'beautiful', 'world']"
      ]
     },
     "execution_count": 24,
     "metadata": {},
     "output_type": "execute_result"
    }
   ],
   "source": [
    "a='This is a beautiful world'\n",
    "a.split()"
   ]
  },
  {
   "cell_type": "code",
   "execution_count": 26,
   "id": "3f56fc0d",
   "metadata": {},
   "outputs": [
    {
     "data": {
      "text/plain": [
       "['Th', 's ', 's a beaut', 'ful world']"
      ]
     },
     "execution_count": 26,
     "metadata": {},
     "output_type": "execute_result"
    }
   ],
   "source": [
    "a.split('i')"
   ]
  },
  {
   "cell_type": "markdown",
   "id": "ab92cc04",
   "metadata": {},
   "source": [
    " **String interpolation**\n",
    " <br>\n",
    " This can be done in two ways <br>\n",
    " 1. .format() <br>\n",
    " 2. f-strings<br>\n",
    " \n",
    "**format()**"
   ]
  },
  {
   "cell_type": "code",
   "execution_count": 27,
   "id": "f06c7449",
   "metadata": {},
   "outputs": [
    {
     "name": "stdout",
     "output_type": "stream",
     "text": [
      "This is a macbook\n"
     ]
    }
   ],
   "source": [
    "#Example for .format()\n",
    "laptop_model='macbook'\n",
    "print('This is a {}'.format(laptop_model))"
   ]
  },
  {
   "cell_type": "code",
   "execution_count": 28,
   "id": "79d40d67",
   "metadata": {},
   "outputs": [
    {
     "name": "stdout",
     "output_type": "stream",
     "text": [
      "Humpty Dumpty sat on a wall.\n"
     ]
    }
   ],
   "source": [
    "print('Humpty {} {} on a wall.'.format('Dumpty','sat'))"
   ]
  },
  {
   "cell_type": "code",
   "execution_count": 29,
   "id": "4f933828",
   "metadata": {},
   "outputs": [
    {
     "name": "stdout",
     "output_type": "stream",
     "text": [
      "Humpty Dumpty sat on a wall.\n"
     ]
    }
   ],
   "source": [
    "print('Humpty {1} {0} on a wall.'.format('sat','Dumpty'))\n",
    "#here we are using index to insert the string at it's correct position"
   ]
  },
  {
   "cell_type": "code",
   "execution_count": 30,
   "id": "d8e33009",
   "metadata": {},
   "outputs": [
    {
     "name": "stdout",
     "output_type": "stream",
     "text": [
      "Humpty Dumpty sat on a wall.\n"
     ]
    }
   ],
   "source": [
    "print('Humpty {d} {s} on a wall.'.format(s='sat',d='Dumpty'))"
   ]
  },
  {
   "cell_type": "markdown",
   "id": "c376831a",
   "metadata": {},
   "source": [
    "**Implementing f-strings in python**"
   ]
  },
  {
   "cell_type": "code",
   "execution_count": 31,
   "id": "8fd3f262",
   "metadata": {},
   "outputs": [
    {
     "name": "stdout",
     "output_type": "stream",
     "text": [
      "Hello, my name is Kaustav.\n"
     ]
    }
   ],
   "source": [
    "name='Kaustav'\n",
    "print(f'Hello, my name is {name}.')"
   ]
  },
  {
   "cell_type": "markdown",
   "id": "ec6d3491",
   "metadata": {},
   "source": [
    "**Float formatting** follows \"{value:width:precision f}\"\n",
    "<br>\n",
    "width is nothing complicated. It just refers to some white spaces."
   ]
  },
  {
   "cell_type": "markdown",
   "id": "07f96a6e",
   "metadata": {},
   "source": [
    "## Python Comparison Operators\n",
    "**== , >, <, <=, >=, !=**"
   ]
  },
  {
   "cell_type": "code",
   "execution_count": 43,
   "id": "bc0078e9",
   "metadata": {},
   "outputs": [
    {
     "data": {
      "text/plain": [
       "True"
      ]
     },
     "execution_count": 43,
     "metadata": {},
     "output_type": "execute_result"
    }
   ],
   "source": [
    "1<2"
   ]
  },
  {
   "cell_type": "code",
   "execution_count": 44,
   "id": "b79555d9",
   "metadata": {},
   "outputs": [
    {
     "data": {
      "text/plain": [
       "False"
      ]
     },
     "execution_count": 44,
     "metadata": {},
     "output_type": "execute_result"
    }
   ],
   "source": [
    "2>3"
   ]
  },
  {
   "cell_type": "code",
   "execution_count": 45,
   "id": "bd9e803c",
   "metadata": {},
   "outputs": [
    {
     "data": {
      "text/plain": [
       "False"
      ]
     },
     "execution_count": 45,
     "metadata": {},
     "output_type": "execute_result"
    }
   ],
   "source": [
    "'2'==2"
   ]
  },
  {
   "cell_type": "code",
   "execution_count": 48,
   "id": "982b79fe",
   "metadata": {},
   "outputs": [
    {
     "data": {
      "text/plain": [
       "True"
      ]
     },
     "execution_count": 48,
     "metadata": {},
     "output_type": "execute_result"
    }
   ],
   "source": [
    "2.0==2"
   ]
  },
  {
   "cell_type": "code",
   "execution_count": 49,
   "id": "fbc72668",
   "metadata": {},
   "outputs": [
    {
     "data": {
      "text/plain": [
       "True"
      ]
     },
     "execution_count": 49,
     "metadata": {},
     "output_type": "execute_result"
    }
   ],
   "source": [
    "'hello'=='hello'"
   ]
  },
  {
   "cell_type": "code",
   "execution_count": 50,
   "id": "19e33c10",
   "metadata": {},
   "outputs": [
    {
     "data": {
      "text/plain": [
       "False"
      ]
     },
     "execution_count": 50,
     "metadata": {},
     "output_type": "execute_result"
    }
   ],
   "source": [
    "'hello'=='Hello'"
   ]
  },
  {
   "cell_type": "markdown",
   "id": "a797c38d",
   "metadata": {},
   "source": [
    "**Chaining Comparsion Operators in Python with Logical Operators**"
   ]
  },
  {
   "cell_type": "code",
   "execution_count": 51,
   "id": "54b0ec93",
   "metadata": {},
   "outputs": [
    {
     "data": {
      "text/plain": [
       "True"
      ]
     },
     "execution_count": 51,
     "metadata": {},
     "output_type": "execute_result"
    }
   ],
   "source": [
    "(1<2) and (2<3)"
   ]
  },
  {
   "cell_type": "code",
   "execution_count": 52,
   "id": "a0af6c3b",
   "metadata": {},
   "outputs": [
    {
     "data": {
      "text/plain": [
       "False"
      ]
     },
     "execution_count": 52,
     "metadata": {},
     "output_type": "execute_result"
    }
   ],
   "source": [
    "(1<2) and (2>3)"
   ]
  },
  {
   "cell_type": "code",
   "execution_count": 54,
   "id": "f5e75c77",
   "metadata": {},
   "outputs": [
    {
     "data": {
      "text/plain": [
       "False"
      ]
     },
     "execution_count": 54,
     "metadata": {},
     "output_type": "execute_result"
    }
   ],
   "source": [
    "not (1<2)"
   ]
  },
  {
   "cell_type": "code",
   "execution_count": 55,
   "id": "89882e00",
   "metadata": {},
   "outputs": [
    {
     "data": {
      "text/plain": [
       "True"
      ]
     },
     "execution_count": 55,
     "metadata": {},
     "output_type": "execute_result"
    }
   ],
   "source": [
    "(1<2) or (2>3)"
   ]
  },
  {
   "cell_type": "code",
   "execution_count": null,
   "id": "edf10c07",
   "metadata": {},
   "outputs": [],
   "source": []
  }
 ],
 "metadata": {
  "kernelspec": {
   "display_name": "Python 3 (ipykernel)",
   "language": "python",
   "name": "python3"
  },
  "language_info": {
   "codemirror_mode": {
    "name": "ipython",
    "version": 3
   },
   "file_extension": ".py",
   "mimetype": "text/x-python",
   "name": "python",
   "nbconvert_exporter": "python",
   "pygments_lexer": "ipython3",
   "version": "3.9.7"
  }
 },
 "nbformat": 4,
 "nbformat_minor": 5
}
